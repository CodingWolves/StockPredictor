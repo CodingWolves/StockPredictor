{
 "cells": [
  {
   "cell_type": "markdown",
   "metadata": {
    "id": "4zyjdLa-XmIJ"
   },
   "source": [
    "# Running Stock Predictor on Google Colab\n",
    "\n",
    "* Clone repo and install pyqlib\n",
    "* Restart runtime after install"
   ]
  },
  {
   "cell_type": "code",
   "execution_count": 1,
   "metadata": {
    "colab": {
     "base_uri": "https://localhost:8080/"
    },
    "id": "Y3v-nugBWlUF",
    "outputId": "f324098c-d1e3-4fcb-8fbc-3584415f5fd2"
   },
   "outputs": [
    {
     "name": "stdout",
     "output_type": "stream",
     "text": [
      "Cloning into 'StockPredictor'...\n",
      "remote: Enumerating objects: 90, done.\u001b[K\n",
      "remote: Counting objects: 100% (90/90), done.\u001b[K\n",
      "remote: Compressing objects: 100% (71/71), done.\u001b[K\n",
      "remote: Total 90 (delta 26), reused 63 (delta 15), pack-reused 0\u001b[K\n",
      "Unpacking objects: 100% (90/90), done.\n"
     ]
    }
   ],
   "source": [
    "!git clone https://github.com/jingedawang/StockPredictor.git"
   ]
  },
  {
   "cell_type": "code",
   "execution_count": 2,
   "metadata": {
    "colab": {
     "base_uri": "https://localhost:8080/",
     "height": 1000
    },
    "id": "rG1J1g4aXi46",
    "outputId": "486dc9bf-253c-473e-b7dd-1aba32a044db"
   },
   "outputs": [
    {
     "name": "stdout",
     "output_type": "stream",
     "text": [
      "Looking in indexes: https://pypi.org/simple, https://us-python.pkg.dev/colab-wheels/public/simple/\n",
      "Collecting pyqlib\n",
      "  Downloading pyqlib-0.8.6-cp37-cp37m-manylinux_2_5_x86_64.manylinux1_x86_64.manylinux_2_12_x86_64.manylinux2010_x86_64.whl (954 kB)\n",
      "\u001b[K     |████████████████████████████████| 954 kB 7.8 MB/s \n",
      "\u001b[?25hCollecting matplotlib>=3.3\n",
      "  Downloading matplotlib-3.5.3-cp37-cp37m-manylinux_2_5_x86_64.manylinux1_x86_64.whl (11.2 MB)\n",
      "\u001b[K     |████████████████████████████████| 11.2 MB 39.5 MB/s \n",
      "\u001b[?25hRequirement already satisfied: tornado in /usr/local/lib/python3.7/dist-packages (from pyqlib) (5.1.1)\n",
      "Requirement already satisfied: statsmodels in /usr/local/lib/python3.7/dist-packages (from pyqlib) (0.12.2)\n",
      "Requirement already satisfied: jinja2<3.1.0 in /usr/local/lib/python3.7/dist-packages (from pyqlib) (2.11.3)\n",
      "Requirement already satisfied: pandas>=0.25.1 in /usr/local/lib/python3.7/dist-packages (from pyqlib) (1.3.5)\n",
      "Collecting sacred>=0.7.4\n",
      "  Downloading sacred-0.8.2-py2.py3-none-any.whl (106 kB)\n",
      "\u001b[K     |████████████████████████████████| 106 kB 43.4 MB/s \n",
      "\u001b[?25hRequirement already satisfied: xlrd>=1.0.0 in /usr/local/lib/python3.7/dist-packages (from pyqlib) (1.1.0)\n",
      "Requirement already satisfied: hyperopt==0.1.2 in /usr/local/lib/python3.7/dist-packages (from pyqlib) (0.1.2)\n",
      "Requirement already satisfied: pyyaml>=5.3.1 in /usr/local/lib/python3.7/dist-packages (from pyqlib) (6.0)\n",
      "Collecting redis>=3.0.1\n",
      "  Downloading redis-4.3.4-py3-none-any.whl (246 kB)\n",
      "\u001b[K     |████████████████████████████████| 246 kB 34.3 MB/s \n",
      "\u001b[?25hCollecting ruamel.yaml>=0.16.12\n",
      "  Downloading ruamel.yaml-0.17.21-py3-none-any.whl (109 kB)\n",
      "\u001b[K     |████████████████████████████████| 109 kB 47.4 MB/s \n",
      "\u001b[?25hCollecting lightgbm>=3.3.0\n",
      "  Downloading lightgbm-3.3.2-py3-none-manylinux1_x86_64.whl (2.0 MB)\n",
      "\u001b[K     |████████████████████████████████| 2.0 MB 40.5 MB/s \n",
      "\u001b[?25hRequirement already satisfied: scikit-learn>=0.22 in /usr/local/lib/python3.7/dist-packages (from pyqlib) (1.0.2)\n",
      "Collecting pymongo==3.7.2\n",
      "  Downloading pymongo-3.7.2-cp37-cp37m-manylinux1_x86_64.whl (406 kB)\n",
      "\u001b[K     |████████████████████████████████| 406 kB 51.0 MB/s \n",
      "\u001b[?25hRequirement already satisfied: numpy>=1.12.0 in /usr/local/lib/python3.7/dist-packages (from pyqlib) (1.21.6)\n",
      "Requirement already satisfied: filelock in /usr/local/lib/python3.7/dist-packages (from pyqlib) (3.8.0)\n",
      "Collecting loguru\n",
      "  Downloading loguru-0.6.0-py3-none-any.whl (58 kB)\n",
      "\u001b[K     |████████████████████████████████| 58 kB 6.0 MB/s \n",
      "\u001b[?25hRequirement already satisfied: tables>=3.6.1 in /usr/local/lib/python3.7/dist-packages (from pyqlib) (3.7.0)\n",
      "Collecting mlflow>=1.12.1\n",
      "  Downloading mlflow-1.28.0-py3-none-any.whl (17.0 MB)\n",
      "\u001b[K     |████████████████████████████████| 17.0 MB 108 kB/s \n",
      "\u001b[?25hRequirement already satisfied: gym in /usr/local/lib/python3.7/dist-packages (from pyqlib) (0.25.2)\n",
      "Requirement already satisfied: cvxpy>=1.0.21 in /usr/local/lib/python3.7/dist-packages (from pyqlib) (1.2.1)\n",
      "Collecting schedule>=0.6.0\n",
      "  Downloading schedule-1.1.0-py2.py3-none-any.whl (10 kB)\n",
      "Requirement already satisfied: scipy>=1.0.0 in /usr/local/lib/python3.7/dist-packages (from pyqlib) (1.7.3)\n",
      "Collecting fire>=0.3.1\n",
      "  Downloading fire-0.4.0.tar.gz (87 kB)\n",
      "\u001b[K     |████████████████████████████████| 87 kB 6.1 MB/s \n",
      "\u001b[?25hRequirement already satisfied: protobuf<=3.20.1 in /usr/local/lib/python3.7/dist-packages (from pyqlib) (3.17.3)\n",
      "Collecting python-socketio\n",
      "  Downloading python_socketio-5.7.1-py3-none-any.whl (56 kB)\n",
      "\u001b[K     |████████████████████████████████| 56 kB 4.2 MB/s \n",
      "\u001b[?25hRequirement already satisfied: requests>=2.18.0 in /usr/local/lib/python3.7/dist-packages (from pyqlib) (2.23.0)\n",
      "Requirement already satisfied: joblib>=0.17.0 in /usr/local/lib/python3.7/dist-packages (from pyqlib) (1.1.0)\n",
      "Requirement already satisfied: dill in /usr/local/lib/python3.7/dist-packages (from pyqlib) (0.3.5.1)\n",
      "Requirement already satisfied: tqdm in /usr/local/lib/python3.7/dist-packages (from pyqlib) (4.64.0)\n",
      "Requirement already satisfied: plotly>=4.12.0 in /usr/local/lib/python3.7/dist-packages (from pyqlib) (5.5.0)\n",
      "Collecting python-redis-lock>=3.3.1\n",
      "  Downloading python_redis_lock-3.7.0-py2.py3-none-any.whl (12 kB)\n",
      "Requirement already satisfied: six in /usr/local/lib/python3.7/dist-packages (from hyperopt==0.1.2->pyqlib) (1.15.0)\n",
      "Requirement already satisfied: future in /usr/local/lib/python3.7/dist-packages (from hyperopt==0.1.2->pyqlib) (0.16.0)\n",
      "Requirement already satisfied: networkx in /usr/local/lib/python3.7/dist-packages (from hyperopt==0.1.2->pyqlib) (2.6.3)\n",
      "Requirement already satisfied: osqp>=0.4.1 in /usr/local/lib/python3.7/dist-packages (from cvxpy>=1.0.21->pyqlib) (0.6.2.post0)\n",
      "Requirement already satisfied: ecos>=2 in /usr/local/lib/python3.7/dist-packages (from cvxpy>=1.0.21->pyqlib) (2.0.10)\n",
      "Requirement already satisfied: scs>=1.1.6 in /usr/local/lib/python3.7/dist-packages (from cvxpy>=1.0.21->pyqlib) (3.2.0)\n",
      "Requirement already satisfied: termcolor in /usr/local/lib/python3.7/dist-packages (from fire>=0.3.1->pyqlib) (1.1.0)\n",
      "Requirement already satisfied: MarkupSafe>=0.23 in /usr/local/lib/python3.7/dist-packages (from jinja2<3.1.0->pyqlib) (2.0.1)\n",
      "Requirement already satisfied: wheel in /usr/local/lib/python3.7/dist-packages (from lightgbm>=3.3.0->pyqlib) (0.37.1)\n",
      "Requirement already satisfied: kiwisolver>=1.0.1 in /usr/local/lib/python3.7/dist-packages (from matplotlib>=3.3->pyqlib) (1.4.4)\n",
      "Requirement already satisfied: pyparsing>=2.2.1 in /usr/local/lib/python3.7/dist-packages (from matplotlib>=3.3->pyqlib) (3.0.9)\n",
      "Collecting fonttools>=4.22.0\n",
      "  Downloading fonttools-4.37.1-py3-none-any.whl (957 kB)\n",
      "\u001b[K     |████████████████████████████████| 957 kB 32.8 MB/s \n",
      "\u001b[?25hRequirement already satisfied: packaging>=20.0 in /usr/local/lib/python3.7/dist-packages (from matplotlib>=3.3->pyqlib) (21.3)\n",
      "Requirement already satisfied: cycler>=0.10 in /usr/local/lib/python3.7/dist-packages (from matplotlib>=3.3->pyqlib) (0.11.0)\n",
      "Requirement already satisfied: pillow>=6.2.0 in /usr/local/lib/python3.7/dist-packages (from matplotlib>=3.3->pyqlib) (7.1.2)\n",
      "Requirement already satisfied: python-dateutil>=2.7 in /usr/local/lib/python3.7/dist-packages (from matplotlib>=3.3->pyqlib) (2.8.2)\n",
      "Requirement already satisfied: typing-extensions in /usr/local/lib/python3.7/dist-packages (from kiwisolver>=1.0.1->matplotlib>=3.3->pyqlib) (4.1.1)\n",
      "Collecting gunicorn<21\n",
      "  Downloading gunicorn-20.1.0-py3-none-any.whl (79 kB)\n",
      "\u001b[K     |████████████████████████████████| 79 kB 7.4 MB/s \n",
      "\u001b[?25hCollecting querystring-parser<2\n",
      "  Downloading querystring_parser-1.2.4-py2.py3-none-any.whl (7.9 kB)\n",
      "Requirement already satisfied: sqlparse<1,>=0.4.0 in /usr/local/lib/python3.7/dist-packages (from mlflow>=1.12.1->pyqlib) (0.4.2)\n",
      "Requirement already satisfied: pytz<2023 in /usr/local/lib/python3.7/dist-packages (from mlflow>=1.12.1->pyqlib) (2022.2.1)\n",
      "Requirement already satisfied: click<9,>=7.0 in /usr/local/lib/python3.7/dist-packages (from mlflow>=1.12.1->pyqlib) (7.1.2)\n",
      "Collecting databricks-cli<1,>=0.8.7\n",
      "  Downloading databricks-cli-0.17.3.tar.gz (77 kB)\n",
      "\u001b[K     |████████████████████████████████| 77 kB 5.6 MB/s \n",
      "\u001b[?25hCollecting gitpython<4,>=2.1.0\n",
      "  Downloading GitPython-3.1.27-py3-none-any.whl (181 kB)\n",
      "\u001b[K     |████████████████████████████████| 181 kB 38.7 MB/s \n",
      "\u001b[?25hRequirement already satisfied: cloudpickle<3 in /usr/local/lib/python3.7/dist-packages (from mlflow>=1.12.1->pyqlib) (1.5.0)\n",
      "Requirement already satisfied: Flask<3 in /usr/local/lib/python3.7/dist-packages (from mlflow>=1.12.1->pyqlib) (1.1.4)\n",
      "Collecting alembic<2\n",
      "  Downloading alembic-1.8.1-py3-none-any.whl (209 kB)\n",
      "\u001b[K     |████████████████████████████████| 209 kB 46.9 MB/s \n",
      "\u001b[?25hCollecting prometheus-flask-exporter<1\n",
      "  Downloading prometheus_flask_exporter-0.20.3-py3-none-any.whl (18 kB)\n",
      "Requirement already satisfied: sqlalchemy<2,>=1.4.0 in /usr/local/lib/python3.7/dist-packages (from mlflow>=1.12.1->pyqlib) (1.4.40)\n",
      "Requirement already satisfied: importlib-metadata!=4.7.0,<5,>=3.7.0 in /usr/local/lib/python3.7/dist-packages (from mlflow>=1.12.1->pyqlib) (4.12.0)\n",
      "Requirement already satisfied: entrypoints<1 in /usr/local/lib/python3.7/dist-packages (from mlflow>=1.12.1->pyqlib) (0.4)\n",
      "Collecting docker<6,>=4.0.0\n",
      "  Downloading docker-5.0.3-py2.py3-none-any.whl (146 kB)\n",
      "\u001b[K     |████████████████████████████████| 146 kB 41.0 MB/s \n",
      "\u001b[?25hRequirement already satisfied: importlib-resources in /usr/local/lib/python3.7/dist-packages (from alembic<2->mlflow>=1.12.1->pyqlib) (5.9.0)\n",
      "Collecting Mako\n",
      "  Downloading Mako-1.2.2-py3-none-any.whl (78 kB)\n",
      "\u001b[K     |████████████████████████████████| 78 kB 6.1 MB/s \n",
      "\u001b[?25hCollecting pyjwt>=1.7.0\n",
      "  Downloading PyJWT-2.4.0-py3-none-any.whl (18 kB)\n",
      "Requirement already satisfied: oauthlib>=3.1.0 in /usr/local/lib/python3.7/dist-packages (from databricks-cli<1,>=0.8.7->mlflow>=1.12.1->pyqlib) (3.2.0)\n",
      "Requirement already satisfied: tabulate>=0.7.7 in /usr/local/lib/python3.7/dist-packages (from databricks-cli<1,>=0.8.7->mlflow>=1.12.1->pyqlib) (0.8.10)\n",
      "Collecting websocket-client>=0.32.0\n",
      "  Downloading websocket_client-1.4.0-py3-none-any.whl (54 kB)\n",
      "\u001b[K     |████████████████████████████████| 54 kB 2.6 MB/s \n",
      "\u001b[?25hRequirement already satisfied: itsdangerous<2.0,>=0.24 in /usr/local/lib/python3.7/dist-packages (from Flask<3->mlflow>=1.12.1->pyqlib) (1.1.0)\n",
      "Requirement already satisfied: Werkzeug<2.0,>=0.15 in /usr/local/lib/python3.7/dist-packages (from Flask<3->mlflow>=1.12.1->pyqlib) (1.0.1)\n",
      "Collecting gitdb<5,>=4.0.1\n",
      "  Downloading gitdb-4.0.9-py3-none-any.whl (63 kB)\n",
      "\u001b[K     |████████████████████████████████| 63 kB 1.3 MB/s \n",
      "\u001b[?25hCollecting smmap<6,>=3.0.1\n",
      "  Downloading smmap-5.0.0-py3-none-any.whl (24 kB)\n",
      "Requirement already satisfied: setuptools>=3.0 in /usr/local/lib/python3.7/dist-packages (from gunicorn<21->mlflow>=1.12.1->pyqlib) (57.4.0)\n",
      "Requirement already satisfied: zipp>=0.5 in /usr/local/lib/python3.7/dist-packages (from importlib-metadata!=4.7.0,<5,>=3.7.0->mlflow>=1.12.1->pyqlib) (3.8.1)\n",
      "Requirement already satisfied: qdldl in /usr/local/lib/python3.7/dist-packages (from osqp>=0.4.1->cvxpy>=1.0.21->pyqlib) (0.1.5.post2)\n",
      "Requirement already satisfied: tenacity>=6.2.0 in /usr/local/lib/python3.7/dist-packages (from plotly>=4.12.0->pyqlib) (8.0.1)\n",
      "Collecting prometheus-client\n",
      "  Downloading prometheus_client-0.14.1-py3-none-any.whl (59 kB)\n",
      "\u001b[K     |████████████████████████████████| 59 kB 6.2 MB/s \n",
      "\u001b[?25hRequirement already satisfied: async-timeout>=4.0.2 in /usr/local/lib/python3.7/dist-packages (from redis>=3.0.1->pyqlib) (4.0.2)\n",
      "Collecting deprecated>=1.2.3\n",
      "  Downloading Deprecated-1.2.13-py2.py3-none-any.whl (9.6 kB)\n",
      "Requirement already satisfied: wrapt<2,>=1.10 in /usr/local/lib/python3.7/dist-packages (from deprecated>=1.2.3->redis>=3.0.1->pyqlib) (1.14.1)\n",
      "Requirement already satisfied: idna<3,>=2.5 in /usr/local/lib/python3.7/dist-packages (from requests>=2.18.0->pyqlib) (2.10)\n",
      "Requirement already satisfied: urllib3!=1.25.0,!=1.25.1,<1.26,>=1.21.1 in /usr/local/lib/python3.7/dist-packages (from requests>=2.18.0->pyqlib) (1.24.3)\n",
      "Requirement already satisfied: chardet<4,>=3.0.2 in /usr/local/lib/python3.7/dist-packages (from requests>=2.18.0->pyqlib) (3.0.4)\n",
      "Requirement already satisfied: certifi>=2017.4.17 in /usr/local/lib/python3.7/dist-packages (from requests>=2.18.0->pyqlib) (2022.6.15)\n",
      "Collecting ruamel.yaml.clib>=0.2.6\n",
      "  Downloading ruamel.yaml.clib-0.2.6-cp37-cp37m-manylinux1_x86_64.whl (546 kB)\n",
      "\u001b[K     |████████████████████████████████| 546 kB 47.5 MB/s \n",
      "\u001b[?25hCollecting colorama>=0.4\n",
      "  Downloading colorama-0.4.5-py2.py3-none-any.whl (16 kB)\n",
      "Collecting docopt<1.0,>=0.3\n",
      "  Downloading docopt-0.6.2.tar.gz (25 kB)\n",
      "Collecting py-cpuinfo>=4.0\n",
      "  Downloading py-cpuinfo-8.0.0.tar.gz (99 kB)\n",
      "\u001b[K     |████████████████████████████████| 99 kB 8.4 MB/s \n",
      "\u001b[?25hCollecting munch<3.0,>=2.0.2\n",
      "  Downloading munch-2.5.0-py2.py3-none-any.whl (10 kB)\n",
      "Collecting jsonpickle<2.0,>=1.2\n",
      "  Downloading jsonpickle-1.5.2-py2.py3-none-any.whl (37 kB)\n",
      "Requirement already satisfied: threadpoolctl>=2.0.0 in /usr/local/lib/python3.7/dist-packages (from scikit-learn>=0.22->pyqlib) (3.1.0)\n",
      "Requirement already satisfied: greenlet!=0.4.17 in /usr/local/lib/python3.7/dist-packages (from sqlalchemy<2,>=1.4.0->mlflow>=1.12.1->pyqlib) (1.1.3)\n",
      "Requirement already satisfied: numexpr>=2.6.2 in /usr/local/lib/python3.7/dist-packages (from tables>=3.6.1->pyqlib) (2.8.3)\n",
      "Requirement already satisfied: gym-notices>=0.0.4 in /usr/local/lib/python3.7/dist-packages (from gym->pyqlib) (0.0.8)\n",
      "Collecting bidict>=0.21.0\n",
      "  Downloading bidict-0.22.0-py3-none-any.whl (36 kB)\n",
      "Collecting python-engineio>=4.3.0\n",
      "  Downloading python_engineio-4.3.4-py3-none-any.whl (52 kB)\n",
      "\u001b[K     |████████████████████████████████| 52 kB 1.6 MB/s \n",
      "\u001b[?25hRequirement already satisfied: patsy>=0.5 in /usr/local/lib/python3.7/dist-packages (from statsmodels->pyqlib) (0.5.2)\n",
      "Building wheels for collected packages: fire, databricks-cli, docopt, py-cpuinfo\n",
      "  Building wheel for fire (setup.py) ... \u001b[?25l\u001b[?25hdone\n",
      "  Created wheel for fire: filename=fire-0.4.0-py2.py3-none-any.whl size=115942 sha256=6ac180c35c3db7e8b55114e3f60e47b49c07dddfa432a8009770405598007a14\n",
      "  Stored in directory: /root/.cache/pip/wheels/8a/67/fb/2e8a12fa16661b9d5af1f654bd199366799740a85c64981226\n",
      "  Building wheel for databricks-cli (setup.py) ... \u001b[?25l\u001b[?25hdone\n",
      "  Created wheel for databricks-cli: filename=databricks_cli-0.17.3-py3-none-any.whl size=139102 sha256=899d21f6780e3a3e26d2f090a3f7c36aa18692fea8a080b1649562b9ea3083ce\n",
      "  Stored in directory: /root/.cache/pip/wheels/3f/73/87/c1e4b2145eb6049bb6c9aaf7ea1e38302b77ca219b6fef5d5c\n",
      "  Building wheel for docopt (setup.py) ... \u001b[?25l\u001b[?25hdone\n",
      "  Created wheel for docopt: filename=docopt-0.6.2-py2.py3-none-any.whl size=13723 sha256=4525cd9e8a65fa8dcfcb7186e6c73220698844d1d44796c54002f32b98cca058\n",
      "  Stored in directory: /root/.cache/pip/wheels/72/b0/3f/1d95f96ff986c7dfffe46ce2be4062f38ebd04b506c77c81b9\n",
      "  Building wheel for py-cpuinfo (setup.py) ... \u001b[?25l\u001b[?25hdone\n",
      "  Created wheel for py-cpuinfo: filename=py_cpuinfo-8.0.0-py3-none-any.whl size=22257 sha256=e96d540e720ef4bd3530e106cfa575c3450cefc30734a0f64f59a71c12c5c284\n",
      "  Stored in directory: /root/.cache/pip/wheels/d2/f1/1f/041add21dc9c4220157f1bd2bd6afe1f1a49524c3396b94401\n",
      "Successfully built fire databricks-cli docopt py-cpuinfo\n",
      "Installing collected packages: smmap, websocket-client, pyjwt, prometheus-client, Mako, gitdb, deprecated, ruamel.yaml.clib, redis, querystring-parser, python-engineio, pymongo, py-cpuinfo, prometheus-flask-exporter, munch, jsonpickle, gunicorn, gitpython, fonttools, docopt, docker, databricks-cli, colorama, bidict, alembic, schedule, sacred, ruamel.yaml, python-socketio, python-redis-lock, mlflow, matplotlib, loguru, lightgbm, fire, pyqlib\n",
      "  Attempting uninstall: pymongo\n",
      "    Found existing installation: pymongo 4.2.0\n",
      "    Uninstalling pymongo-4.2.0:\n",
      "      Successfully uninstalled pymongo-4.2.0\n",
      "  Attempting uninstall: matplotlib\n",
      "    Found existing installation: matplotlib 3.2.2\n",
      "    Uninstalling matplotlib-3.2.2:\n",
      "      Successfully uninstalled matplotlib-3.2.2\n",
      "  Attempting uninstall: lightgbm\n",
      "    Found existing installation: lightgbm 2.2.3\n",
      "    Uninstalling lightgbm-2.2.3:\n",
      "      Successfully uninstalled lightgbm-2.2.3\n",
      "Successfully installed Mako-1.2.2 alembic-1.8.1 bidict-0.22.0 colorama-0.4.5 databricks-cli-0.17.3 deprecated-1.2.13 docker-5.0.3 docopt-0.6.2 fire-0.4.0 fonttools-4.37.1 gitdb-4.0.9 gitpython-3.1.27 gunicorn-20.1.0 jsonpickle-1.5.2 lightgbm-3.3.2 loguru-0.6.0 matplotlib-3.5.3 mlflow-1.28.0 munch-2.5.0 prometheus-client-0.14.1 prometheus-flask-exporter-0.20.3 py-cpuinfo-8.0.0 pyjwt-2.4.0 pymongo-3.7.2 pyqlib-0.8.6 python-engineio-4.3.4 python-redis-lock-3.7.0 python-socketio-5.7.1 querystring-parser-1.2.4 redis-4.3.4 ruamel.yaml-0.17.21 ruamel.yaml.clib-0.2.6 sacred-0.8.2 schedule-1.1.0 smmap-5.0.0 websocket-client-1.4.0\n"
     ]
    },
    {
     "data": {
      "application/vnd.colab-display-data+json": {
       "pip_warning": {
        "packages": [
         "matplotlib",
         "mpl_toolkits"
        ]
       }
      }
     },
     "metadata": {},
     "output_type": "display_data"
    }
   ],
   "source": [
    "!pip install pyqlib"
   ]
  },
  {
   "cell_type": "code",
   "execution_count": 3,
   "metadata": {
    "id": "fszd1ZuKXW11"
   },
   "outputs": [],
   "source": [
    "import qlib\n",
    "from qlib.constant import REG_CN\n",
    "from qlib.data.dataset import DatasetH\n",
    "from qlib.utils import init_instance_by_config, flatten_dict\n",
    "from qlib.workflow import R\n",
    "from qlib.tests.data import GetData\n",
    "from qlib.tests.config import CSI300_GBDT_TASK\n",
    "\n",
    "from StockPredictor.algorithm.stock_predictor.data_handler import Alpha158TwoWeeks\n",
    "\n",
    "import pickle"
   ]
  },
  {
   "cell_type": "code",
   "execution_count": 4,
   "metadata": {
    "colab": {
     "base_uri": "https://localhost:8080/"
    },
    "id": "MgL5G1ZZYrtJ",
    "outputId": "8c146194-9fbe-492b-99ff-ffec4deed256"
   },
   "outputs": [
    {
     "name": "stderr",
     "output_type": "stream",
     "text": [
      "2022-08-31 22:05:20.825 | WARNING  | qlib.tests.data:_download_data:57 - The data for the example is collected from Yahoo Finance. Please be aware that the quality of the data might not be perfect. (You can refer to the original data source: https://finance.yahoo.com/lookup.)\n",
      "2022-08-31 22:05:20.827 | INFO     | qlib.tests.data:_download_data:59 - qlib_data_cn_1d_latest.zip downloading......\n",
      "196549632it [00:11, 17131994.25it/s]                               \n",
      "2022-08-31 22:05:32.315 | WARNING  | qlib.tests.data:_unzip:82 - will delete the old qlib data directory(features, instruments, calendars, features_cache, dataset_cache): /root/.qlib/qlib_data/cn_data\n",
      "2022-08-31 22:05:32.320 | INFO     | qlib.tests.data:_unzip:85 - /root/.qlib/qlib_data/cn_data/20220831220520_qlib_data_cn_1d_latest.zip unzipping......\n",
      "100%|██████████| 31008/31008 [00:11<00:00, 2620.56it/s]\n",
      "[56:MainThread](2022-08-31 22:05:44,651) INFO - qlib.Initialization - [config.py:413] - default_conf: client.\n",
      "INFO:qlib.Initialization:default_conf: client.\n",
      "[56:MainThread](2022-08-31 22:05:44,669) INFO - qlib.Initialization - [__init__.py:74] - qlib successfully initialized based on client settings.\n",
      "INFO:qlib.Initialization:qlib successfully initialized based on client settings.\n",
      "[56:MainThread](2022-08-31 22:05:44,680) INFO - qlib.Initialization - [__init__.py:76] - data_path={'__DEFAULT_FREQ': PosixPath('/root/.qlib/qlib_data/cn_data')}\n",
      "INFO:qlib.Initialization:data_path={'__DEFAULT_FREQ': PosixPath('/root/.qlib/qlib_data/cn_data')}\n"
     ]
    }
   ],
   "source": [
    "# use default data\n",
    "provider_uri = \"~/.qlib/qlib_data/cn_data\"  # target_dir\n",
    "GetData().qlib_data(target_dir=provider_uri, region=REG_CN, exists_skip=True)\n",
    "qlib.init(provider_uri=provider_uri, region=REG_CN)"
   ]
  },
  {
   "cell_type": "code",
   "execution_count": 5,
   "metadata": {
    "colab": {
     "base_uri": "https://localhost:8080/"
    },
    "id": "3vyLz45fZSGx",
    "outputId": "25a319f6-6b98-4cd4-fcaf-b7329c38fbd6"
   },
   "outputs": [
    {
     "name": "stderr",
     "output_type": "stream",
     "text": [
      "[56:MainThread](2022-08-31 22:12:52,094) INFO - qlib.timer - [log.py:117] - Time cost: 427.390s | Loading data Done\n",
      "INFO:qlib.timer:Time cost: 427.390s | Loading data Done\n",
      "[56:MainThread](2022-08-31 22:12:53,014) INFO - qlib.timer - [log.py:117] - Time cost: 0.282s | DropnaLabel Done\n",
      "INFO:qlib.timer:Time cost: 0.282s | DropnaLabel Done\n",
      "/usr/local/lib/python3.7/dist-packages/pandas/core/frame.py:3641: SettingWithCopyWarning: \n",
      "A value is trying to be set on a copy of a slice from a DataFrame.\n",
      "Try using .loc[row_indexer,col_indexer] = value instead\n",
      "\n",
      "See the caveats in the documentation: https://pandas.pydata.org/pandas-docs/stable/user_guide/indexing.html#returning-a-view-versus-a-copy\n",
      "  self[k1] = value[k2]\n",
      "[56:MainThread](2022-08-31 22:13:05,252) INFO - qlib.timer - [log.py:117] - Time cost: 12.227s | CSZScoreNorm Done\n",
      "INFO:qlib.timer:Time cost: 12.227s | CSZScoreNorm Done\n",
      "[56:MainThread](2022-08-31 22:13:05,265) INFO - qlib.timer - [log.py:117] - Time cost: 13.156s | fit & process data Done\n",
      "INFO:qlib.timer:Time cost: 13.156s | fit & process data Done\n",
      "[56:MainThread](2022-08-31 22:13:05,272) INFO - qlib.timer - [log.py:117] - Time cost: 440.567s | Init data Done\n",
      "INFO:qlib.timer:Time cost: 440.567s | Init data Done\n"
     ]
    }
   ],
   "source": [
    "# Load data with our customized data handler.\n",
    "# The Alpha158TwoWeeks is different with Alpha158 only in the labels.\n",
    "# TODO: Data is important for model training, we need to try other adjustments to the data handler to acheive better results.\n",
    "data_handler = Alpha158TwoWeeks(instruments='csi300')\n",
    "dataset = DatasetH(\n",
    "          handler=data_handler,\n",
    "          segments={\n",
    "            \"train\": [\"2008-01-01\", \"2014-12-31\"],\n",
    "            \"valid\": [\"2015-01-01\", \"2016-12-31\"],\n",
    "            \"test\": [\"2017-01-01\", \"2020-08-01\"]\n",
    "            }\n",
    "          )"
   ]
  },
  {
   "cell_type": "code",
   "execution_count": 6,
   "metadata": {
    "colab": {
     "base_uri": "https://localhost:8080/"
    },
    "id": "5eZGL7vOZZF7",
    "outputId": "4b2bf52b-2dc9-4f39-f2f3-19db640064d4"
   },
   "outputs": [
    {
     "name": "stdout",
     "output_type": "stream",
     "text": [
      "Please install necessary libs for CatBoostModel.\n"
     ]
    }
   ],
   "source": [
    "# Use GBDT model.\n",
    "# TODO: Model architecture is also important. We need to try different models to acheive better results.\n",
    "model = init_instance_by_config(CSI300_GBDT_TASK[\"model\"])"
   ]
  },
  {
   "cell_type": "code",
   "execution_count": 7,
   "metadata": {
    "colab": {
     "base_uri": "https://localhost:8080/"
    },
    "id": "vXX-MDVvZBQe",
    "outputId": "bd4d1e58-18e9-42c3-c8b8-24214bf586c0"
   },
   "outputs": [
    {
     "name": "stdout",
     "output_type": "stream",
     "text": [
      "                           KMID      KLEN     KMID2       KUP      KUP2  \\\n",
      "datetime   instrument                                                     \n",
      "2008-01-02 SH600000    0.010374  0.061129  0.169699  0.028299  0.462937   \n",
      "           SH600004    0.057280  0.059661  0.960094  0.002381  0.039906   \n",
      "           SH600006    0.012673  0.040323  0.314283  0.008065  0.200000   \n",
      "           SH600007    0.066977  0.084186  0.795580  0.007907  0.093923   \n",
      "           SH600008    0.051163  0.082326  0.621469  0.027907  0.338982   \n",
      "\n",
      "                           KLOW     KLOW2      KSFT     KSFT2     OPEN0  ...  \\\n",
      "datetime   instrument                                                    ...   \n",
      "2008-01-02 SH600000    0.022457  0.367364  0.004531  0.074127  0.989733  ...   \n",
      "           SH600004    0.000000  0.000000  0.054899  0.920187  0.945823  ...   \n",
      "           SH600006    0.019585  0.485716  0.024193  0.599999  0.987486  ...   \n",
      "           SH600007    0.009302  0.110497  0.068372  0.812154  0.937227  ...   \n",
      "           SH600008    0.003256  0.039549  0.026512  0.322035  0.951327  ...   \n",
      "\n",
      "                        VSUMN10   VSUMN20   VSUMN30   VSUMN60    VSUMD5  \\\n",
      "datetime   instrument                                                     \n",
      "2008-01-02 SH600000    0.550639  0.490807  0.485962  0.510337 -0.022349   \n",
      "           SH600004    0.328894  0.392360  0.423984  0.514932  0.633267   \n",
      "           SH600006    0.522838  0.433405  0.494553  0.524930 -0.064064   \n",
      "           SH600007    0.242611  0.291541  0.352613  0.420448  0.878055   \n",
      "           SH600008    0.425714  0.381852  0.400486  0.469882  0.482783   \n",
      "\n",
      "                        VSUMD10   VSUMD20   VSUMD30   VSUMD60    LABEL0  \n",
      "datetime   instrument                                                    \n",
      "2008-01-02 SH600000   -0.101278  0.018386  0.028076 -0.020675  0.097306  \n",
      "           SH600004    0.342211  0.215280  0.152031 -0.029863 -0.011669  \n",
      "           SH600006   -0.045677  0.133190  0.010894 -0.049861 -0.026490  \n",
      "           SH600007    0.514779  0.416918  0.294774  0.159104 -0.049383  \n",
      "           SH600008    0.148572  0.236296  0.199027  0.060235 -0.065313  \n",
      "\n",
      "[5 rows x 159 columns]\n"
     ]
    }
   ],
   "source": [
    "# NOTE: This line is optional.\n",
    "# Show the prepared training data to make sure we are using the correct data for trainning.\n",
    "example_df = dataset.prepare(\"train\")\n",
    "print(example_df.head())"
   ]
  },
  {
   "cell_type": "code",
   "execution_count": 17,
   "metadata": {
    "colab": {
     "base_uri": "https://localhost:8080/"
    },
    "id": "Kh6TEMWMZGBy",
    "outputId": "6779140b-1c4e-429d-87b1-f477a5b814ad"
   },
   "outputs": [
    {
     "name": "stderr",
     "output_type": "stream",
     "text": [
      "[56:MainThread](2022-08-31 22:24:34,978) INFO - qlib.workflow - [expm.py:315] - <mlflow.tracking.client.MlflowClient object at 0x7f238a748210>\n",
      "INFO:qlib.workflow:<mlflow.tracking.client.MlflowClient object at 0x7f238a748210>\n",
      "[56:MainThread](2022-08-31 22:24:34,993) WARNING - qlib.workflow - [expm.py:195] - No valid experiment found. Create a new experiment with name workflow.\n",
      "WARNING:qlib.workflow:No valid experiment found. Create a new experiment with name workflow.\n",
      "[56:MainThread](2022-08-31 22:24:35,007) INFO - qlib.workflow - [exp.py:257] - Experiment 1 starts running ...\n",
      "INFO:qlib.workflow:Experiment 1 starts running ...\n",
      "[56:MainThread](2022-08-31 22:24:35,192) INFO - qlib.workflow - [recorder.py:293] - Recorder efa352aa654f432b93ed431e9cfd65ee starts running under Experiment 1 ...\n",
      "INFO:qlib.workflow:Recorder efa352aa654f432b93ed431e9cfd65ee starts running under Experiment 1 ...\n"
     ]
    },
    {
     "name": "stdout",
     "output_type": "stream",
     "text": [
      "Training until validation scores don't improve for 50 rounds\n",
      "[20]\ttrain's l2: 0.985135\tvalid's l2: 0.993481\n",
      "[40]\ttrain's l2: 0.977967\tvalid's l2: 0.993065\n",
      "[60]\ttrain's l2: 0.97287\tvalid's l2: 0.992971\n",
      "[80]\ttrain's l2: 0.96872\tvalid's l2: 0.992893\n",
      "Early stopping, best iteration is:\n",
      "[49]\ttrain's l2: 0.975708\tvalid's l2: 0.992768\n"
     ]
    },
    {
     "name": "stderr",
     "output_type": "stream",
     "text": [
      "[56:MainThread](2022-08-31 22:25:48,302) INFO - qlib.timer - [log.py:117] - Time cost: 0.000s | waiting `async_log` Done\n",
      "INFO:qlib.timer:Time cost: 0.000s | waiting `async_log` Done\n"
     ]
    },
    {
     "name": "stdout",
     "output_type": "stream",
     "text": [
      "pred datetime    instrument\n",
      "2017-01-03  SH600000      0.002296\n",
      "            SH600008     -0.026040\n",
      "            SH600009      0.026351\n",
      "            SH600010     -0.044511\n",
      "            SH600015      0.034829\n",
      "                            ...   \n",
      "2020-07-31  SZ300413      0.012890\n",
      "            SZ300433     -0.034948\n",
      "            SZ300498     -0.033088\n",
      "            SZ300601     -0.120866\n",
      "            SZ300628      0.041037\n",
      "Length: 261300, dtype: float64\n"
     ]
    }
   ],
   "source": [
    "# start experiment.\n",
    "with R.start(experiment_name=\"workflow\"):\n",
    "    R.log_params(**flatten_dict(CSI300_GBDT_TASK))\n",
    "    model.fit(dataset)\n",
    "    R.save_objects(**{\"params.pkl\": model})\n",
    "\n",
    "    pred = model.predict(dataset)\n",
    "    print('pred', pred)\n",
    "\n",
    "# TODO: We need do backtest to evaluate our model."
   ]
  },
  {
   "cell_type": "code",
   "execution_count": 18,
   "metadata": {
    "colab": {
     "base_uri": "https://localhost:8080/"
    },
    "id": "1pUkRe_6b2Sc",
    "outputId": "c907a5c2-c38b-4dd6-a2e7-422ab2edd3ab"
   },
   "outputs": [
    {
     "data": {
      "text/plain": [
       "datetime    instrument\n",
       "2017-01-03  SH600000      0.002296\n",
       "            SH600008     -0.026040\n",
       "            SH600009      0.026351\n",
       "            SH600010     -0.044511\n",
       "            SH600015      0.034829\n",
       "dtype: float64"
      ]
     },
     "execution_count": 18,
     "metadata": {},
     "output_type": "execute_result"
    }
   ],
   "source": [
    "pred.head()"
   ]
  }
 ],
 "metadata": {
  "colab": {
   "name": "StockPredictor.ipynb",
   "provenance": []
  },
  "kernelspec": {
   "display_name": "Python 3 (ipykernel)",
   "language": "python",
   "name": "python3"
  },
  "language_info": {
   "codemirror_mode": {
    "name": "ipython",
    "version": 3
   },
   "file_extension": ".py",
   "mimetype": "text/x-python",
   "name": "python",
   "nbconvert_exporter": "python",
   "pygments_lexer": "ipython3",
   "version": "3.8.13"
  },
  "toc": {
   "base_numbering": 1,
   "nav_menu": {},
   "number_sections": true,
   "sideBar": true,
   "skip_h1_title": false,
   "title_cell": "Table of Contents",
   "title_sidebar": "Contents",
   "toc_cell": false,
   "toc_position": {},
   "toc_section_display": true,
   "toc_window_display": false
  }
 },
 "nbformat": 4,
 "nbformat_minor": 1
}
