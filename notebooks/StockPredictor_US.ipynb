{
  "nbformat": 4,
  "nbformat_minor": 0,
  "metadata": {
    "colab": {
      "provenance": []
    },
    "kernelspec": {
      "name": "python3",
      "display_name": "Python 3"
    },
    "language_info": {
      "name": "python"
    }
  },
  "cells": [
    {
      "cell_type": "markdown",
      "source": [
        "# Running Stock Predictor (US Stocks) on Google Colab\n",
        "\n"
      ],
      "metadata": {
        "id": "4zyjdLa-XmIJ"
      }
    },
    {
      "cell_type": "markdown",
      "source": [
        "## Get US stock data from Yahoo Finance and save it to google drive. \n",
        "- Your google drive should be mounted in Colab\n",
        "- Only need to do this once\n"
      ],
      "metadata": {
        "id": "-X122euxHQ6d"
      }
    },
    {
      "cell_type": "code",
      "source": [
        "!pip install numpy\n",
        "!pip install --upgrade cython\n",
        "!git clone https://github.com/microsoft/qlib.git"
      ],
      "metadata": {
        "id": "nkaGf4vbWLH2"
      },
      "execution_count": null,
      "outputs": []
    },
    {
      "cell_type": "code",
      "source": [
        "!cd qlib && python setup.py install"
      ],
      "metadata": {
        "id": "ne7dMKoHWgz1"
      },
      "execution_count": null,
      "outputs": []
    },
    {
      "cell_type": "code",
      "source": [
        "!python /content/qlib/scripts/get_data.py qlib_data --target_dir /content/drive/MyDrive/qlib_us_data --region us"
      ],
      "metadata": {
        "colab": {
          "base_uri": "https://localhost:8080/"
        },
        "id": "QW_z5KlIW6pd",
        "outputId": "9e9cf2d2-2e7c-4602-ca8f-4648f2d83b66"
      },
      "execution_count": 10,
      "outputs": [
        {
          "output_type": "stream",
          "name": "stdout",
          "text": [
            "\u001b[32m2022-09-02 04:02:52.425\u001b[0m | \u001b[33m\u001b[1mWARNING \u001b[0m | \u001b[36mqlib.tests.data\u001b[0m:\u001b[36m_download_data\u001b[0m:\u001b[36m57\u001b[0m - \u001b[33m\u001b[1mThe data for the example is collected from Yahoo Finance. Please be aware that the quality of the data might not be perfect. (You can refer to the original data source: https://finance.yahoo.com/lookup.)\u001b[0m\n",
            "\u001b[32m2022-09-02 04:02:52.425\u001b[0m | \u001b[1mINFO    \u001b[0m | \u001b[36mqlib.tests.data\u001b[0m:\u001b[36m_download_data\u001b[0m:\u001b[36m59\u001b[0m - \u001b[1mqlib_data_us_1d_latest.zip downloading......\u001b[0m\n",
            "450095104it [00:10, 43224598.86it/s]                   \n",
            "\u001b[32m2022-09-02 04:03:02.840\u001b[0m | \u001b[33m\u001b[1mWARNING \u001b[0m | \u001b[36mqlib.tests.data\u001b[0m:\u001b[36m_unzip\u001b[0m:\u001b[36m82\u001b[0m - \u001b[33m\u001b[1mwill delete the old qlib data directory(features, instruments, calendars, features_cache, dataset_cache): /content/drive/MyDrive/qlib_us_data\u001b[0m\n",
            "\u001b[32m2022-09-02 04:03:02.841\u001b[0m | \u001b[1mINFO    \u001b[0m | \u001b[36mqlib.tests.data\u001b[0m:\u001b[36m_unzip\u001b[0m:\u001b[36m85\u001b[0m - \u001b[1m/content/drive/MyDrive/qlib_us_data/20220902040252_qlib_data_us_1d_latest.zip unzipping......\u001b[0m\n",
            "100% 71959/71959 [08:41<00:00, 138.01it/s]\n"
          ]
        }
      ]
    },
    {
      "cell_type": "markdown",
      "source": [
        "## Installation\n",
        "* Clone repo and install pyqlib\n",
        "* Restart runtime after install"
      ],
      "metadata": {
        "id": "Ix3pVHl6IV0Y"
      }
    },
    {
      "cell_type": "code",
      "execution_count": 3,
      "metadata": {
        "colab": {
          "base_uri": "https://localhost:8080/"
        },
        "id": "Y3v-nugBWlUF",
        "outputId": "a245ad49-86c2-4c5a-d5ed-c94e1b307d9d"
      },
      "outputs": [
        {
          "output_type": "stream",
          "name": "stdout",
          "text": [
            "Cloning into 'StockPredictor'...\n",
            "remote: Enumerating objects: 95, done.\u001b[K\n",
            "remote: Counting objects:   1% (1/95)\u001b[K\rremote: Counting objects:   2% (2/95)\u001b[K\rremote: Counting objects:   3% (3/95)\u001b[K\rremote: Counting objects:   4% (4/95)\u001b[K\rremote: Counting objects:   5% (5/95)\u001b[K\rremote: Counting objects:   6% (6/95)\u001b[K\rremote: Counting objects:   7% (7/95)\u001b[K\rremote: Counting objects:   8% (8/95)\u001b[K\rremote: Counting objects:   9% (9/95)\u001b[K\rremote: Counting objects:  10% (10/95)\u001b[K\rremote: Counting objects:  11% (11/95)\u001b[K\rremote: Counting objects:  12% (12/95)\u001b[K\rremote: Counting objects:  13% (13/95)\u001b[K\rremote: Counting objects:  14% (14/95)\u001b[K\rremote: Counting objects:  15% (15/95)\u001b[K\rremote: Counting objects:  16% (16/95)\u001b[K\rremote: Counting objects:  17% (17/95)\u001b[K\rremote: Counting objects:  18% (18/95)\u001b[K\rremote: Counting objects:  20% (19/95)\u001b[K\rremote: Counting objects:  21% (20/95)\u001b[K\rremote: Counting objects:  22% (21/95)\u001b[K\rremote: Counting objects:  23% (22/95)\u001b[K\rremote: Counting objects:  24% (23/95)\u001b[K\rremote: Counting objects:  25% (24/95)\u001b[K\rremote: Counting objects:  26% (25/95)\u001b[K\rremote: Counting objects:  27% (26/95)\u001b[K\rremote: Counting objects:  28% (27/95)\u001b[K\rremote: Counting objects:  29% (28/95)\u001b[K\rremote: Counting objects:  30% (29/95)\u001b[K\rremote: Counting objects:  31% (30/95)\u001b[K\rremote: Counting objects:  32% (31/95)\u001b[K\rremote: Counting objects:  33% (32/95)\u001b[K\rremote: Counting objects:  34% (33/95)\u001b[K\rremote: Counting objects:  35% (34/95)\u001b[K\rremote: Counting objects:  36% (35/95)\u001b[K\rremote: Counting objects:  37% (36/95)\u001b[K\rremote: Counting objects:  38% (37/95)\u001b[K\rremote: Counting objects:  40% (38/95)\u001b[K\rremote: Counting objects:  41% (39/95)\u001b[K\rremote: Counting objects:  42% (40/95)\u001b[K\rremote: Counting objects:  43% (41/95)\u001b[K\rremote: Counting objects:  44% (42/95)\u001b[K\rremote: Counting objects:  45% (43/95)\u001b[K\rremote: Counting objects:  46% (44/95)\u001b[K\rremote: Counting objects:  47% (45/95)\u001b[K\rremote: Counting objects:  48% (46/95)\u001b[K\rremote: Counting objects:  49% (47/95)\u001b[K\rremote: Counting objects:  50% (48/95)\u001b[K\rremote: Counting objects:  51% (49/95)\u001b[K\rremote: Counting objects:  52% (50/95)\u001b[K\rremote: Counting objects:  53% (51/95)\u001b[K\rremote: Counting objects:  54% (52/95)\u001b[K\rremote: Counting objects:  55% (53/95)\u001b[K\rremote: Counting objects:  56% (54/95)\u001b[K\rremote: Counting objects:  57% (55/95)\u001b[K\rremote: Counting objects:  58% (56/95)\u001b[K\rremote: Counting objects:  60% (57/95)\u001b[K\rremote: Counting objects:  61% (58/95)\u001b[K\rremote: Counting objects:  62% (59/95)\u001b[K\rremote: Counting objects:  63% (60/95)\u001b[K\rremote: Counting objects:  64% (61/95)\u001b[K\rremote: Counting objects:  65% (62/95)\u001b[K\rremote: Counting objects:  66% (63/95)\u001b[K\rremote: Counting objects:  67% (64/95)\u001b[K\rremote: Counting objects:  68% (65/95)\u001b[K\rremote: Counting objects:  69% (66/95)\u001b[K\rremote: Counting objects:  70% (67/95)\u001b[K\rremote: Counting objects:  71% (68/95)\u001b[K\rremote: Counting objects:  72% (69/95)\u001b[K\rremote: Counting objects:  73% (70/95)\u001b[K\rremote: Counting objects:  74% (71/95)\u001b[K\rremote: Counting objects:  75% (72/95)\u001b[K\rremote: Counting objects:  76% (73/95)\u001b[K\rremote: Counting objects:  77% (74/95)\u001b[K\rremote: Counting objects:  78% (75/95)\u001b[K\rremote: Counting objects:  80% (76/95)\u001b[K\rremote: Counting objects:  81% (77/95)\u001b[K\rremote: Counting objects:  82% (78/95)\u001b[K\rremote: Counting objects:  83% (79/95)\u001b[K\rremote: Counting objects:  84% (80/95)\u001b[K\rremote: Counting objects:  85% (81/95)\u001b[K\rremote: Counting objects:  86% (82/95)\u001b[K\rremote: Counting objects:  87% (83/95)\u001b[K\rremote: Counting objects:  88% (84/95)\u001b[K\rremote: Counting objects:  89% (85/95)\u001b[K\rremote: Counting objects:  90% (86/95)\u001b[K\rremote: Counting objects:  91% (87/95)\u001b[K\rremote: Counting objects:  92% (88/95)\u001b[K\rremote: Counting objects:  93% (89/95)\u001b[K\rremote: Counting objects:  94% (90/95)\u001b[K\rremote: Counting objects:  95% (91/95)\u001b[K\rremote: Counting objects:  96% (92/95)\u001b[K\rremote: Counting objects:  97% (93/95)\u001b[K\rremote: Counting objects:  98% (94/95)\u001b[K\rremote: Counting objects: 100% (95/95)\u001b[K\rremote: Counting objects: 100% (95/95), done.\u001b[K\n",
            "remote: Compressing objects:   1% (1/75)\u001b[K\rremote: Compressing objects:   2% (2/75)\u001b[K\rremote: Compressing objects:   4% (3/75)\u001b[K\rremote: Compressing objects:   5% (4/75)\u001b[K\rremote: Compressing objects:   6% (5/75)\u001b[K\rremote: Compressing objects:   8% (6/75)\u001b[K\rremote: Compressing objects:   9% (7/75)\u001b[K\rremote: Compressing objects:  10% (8/75)\u001b[K\rremote: Compressing objects:  12% (9/75)\u001b[K\rremote: Compressing objects:  13% (10/75)\u001b[K\rremote: Compressing objects:  14% (11/75)\u001b[K\rremote: Compressing objects:  16% (12/75)\u001b[K\rremote: Compressing objects:  17% (13/75)\u001b[K\rremote: Compressing objects:  18% (14/75)\u001b[K\rremote: Compressing objects:  20% (15/75)\u001b[K\rremote: Compressing objects:  21% (16/75)\u001b[K\rremote: Compressing objects:  22% (17/75)\u001b[K\rremote: Compressing objects:  24% (18/75)\u001b[K\rremote: Compressing objects:  25% (19/75)\u001b[K\rremote: Compressing objects:  26% (20/75)\u001b[K\rremote: Compressing objects:  28% (21/75)\u001b[K\rremote: Compressing objects:  29% (22/75)\u001b[K\rremote: Compressing objects:  30% (23/75)\u001b[K\rremote: Compressing objects:  32% (24/75)\u001b[K\rremote: Compressing objects:  33% (25/75)\u001b[K\rremote: Compressing objects:  34% (26/75)\u001b[K\rremote: Compressing objects:  36% (27/75)\u001b[K\rremote: Compressing objects:  37% (28/75)\u001b[K\rremote: Compressing objects:  38% (29/75)\u001b[K\rremote: Compressing objects:  40% (30/75)\u001b[K\rremote: Compressing objects:  41% (31/75)\u001b[K\rremote: Compressing objects:  42% (32/75)\u001b[K\rremote: Compressing objects:  44% (33/75)\u001b[K\rremote: Compressing objects:  45% (34/75)\u001b[K\rremote: Compressing objects:  46% (35/75)\u001b[K\rremote: Compressing objects:  48% (36/75)\u001b[K\rremote: Compressing objects:  49% (37/75)\u001b[K\rremote: Compressing objects:  50% (38/75)\u001b[K\rremote: Compressing objects:  52% (39/75)\u001b[K\rremote: Compressing objects:  53% (40/75)\u001b[K\rremote: Compressing objects:  54% (41/75)\u001b[K\rremote: Compressing objects:  56% (42/75)\u001b[K\rremote: Compressing objects:  57% (43/75)\u001b[K\rremote: Compressing objects:  58% (44/75)\u001b[K\rremote: Compressing objects:  60% (45/75)\u001b[K\rremote: Compressing objects:  61% (46/75)\u001b[K\rremote: Compressing objects:  62% (47/75)\u001b[K\rremote: Compressing objects:  64% (48/75)\u001b[K\rremote: Compressing objects:  65% (49/75)\u001b[K\rremote: Compressing objects:  66% (50/75)\u001b[K\rremote: Compressing objects:  68% (51/75)\u001b[K\rremote: Compressing objects:  69% (52/75)\u001b[K\rremote: Compressing objects:  70% (53/75)\u001b[K\rremote: Compressing objects:  72% (54/75)\u001b[K\rremote: Compressing objects:  73% (55/75)\u001b[K\rremote: Compressing objects:  74% (56/75)\u001b[K\rremote: Compressing objects:  76% (57/75)\u001b[K\rremote: Compressing objects:  77% (58/75)\u001b[K\rremote: Compressing objects:  78% (59/75)\u001b[K\rremote: Compressing objects:  80% (60/75)\u001b[K\rremote: Compressing objects:  81% (61/75)\u001b[K\rremote: Compressing objects:  82% (62/75)\u001b[K\rremote: Compressing objects:  84% (63/75)\u001b[K\rremote: Compressing objects:  85% (64/75)\u001b[K\rremote: Compressing objects:  86% (65/75)\u001b[K\rremote: Compressing objects:  88% (66/75)\u001b[K\rremote: Compressing objects:  89% (67/75)\u001b[K\rremote: Compressing objects:  90% (68/75)\u001b[K\rremote: Compressing objects:  92% (69/75)\u001b[K\rremote: Compressing objects:  93% (70/75)\u001b[K\rremote: Compressing objects:  94% (71/75)\u001b[K\rremote: Compressing objects:  96% (72/75)\u001b[K\rremote: Compressing objects:  97% (73/75)\u001b[K\rremote: Compressing objects:  98% (74/75)\u001b[K\rremote: Compressing objects: 100% (75/75)\u001b[K\rremote: Compressing objects: 100% (75/75), done.\u001b[K\n",
            "Unpacking objects:   1% (1/95)   \rUnpacking objects:   2% (2/95)   \rUnpacking objects:   3% (3/95)   \rUnpacking objects:   4% (4/95)   \rUnpacking objects:   5% (5/95)   \rUnpacking objects:   6% (6/95)   \rUnpacking objects:   7% (7/95)   \rUnpacking objects:   8% (8/95)   \rUnpacking objects:   9% (9/95)   \rUnpacking objects:  10% (10/95)   \rUnpacking objects:  11% (11/95)   \rUnpacking objects:  12% (12/95)   \rUnpacking objects:  13% (13/95)   \rUnpacking objects:  14% (14/95)   \rUnpacking objects:  15% (15/95)   \rUnpacking objects:  16% (16/95)   \rUnpacking objects:  17% (17/95)   \rUnpacking objects:  18% (18/95)   \rUnpacking objects:  20% (19/95)   \rUnpacking objects:  21% (20/95)   \rUnpacking objects:  22% (21/95)   \rUnpacking objects:  23% (22/95)   \rUnpacking objects:  24% (23/95)   \rUnpacking objects:  25% (24/95)   \rUnpacking objects:  26% (25/95)   \rUnpacking objects:  27% (26/95)   \rUnpacking objects:  28% (27/95)   \rUnpacking objects:  29% (28/95)   \rUnpacking objects:  30% (29/95)   \rUnpacking objects:  31% (30/95)   \rUnpacking objects:  32% (31/95)   \rUnpacking objects:  33% (32/95)   \rUnpacking objects:  34% (33/95)   \rUnpacking objects:  35% (34/95)   \rUnpacking objects:  36% (35/95)   \rUnpacking objects:  37% (36/95)   \rUnpacking objects:  38% (37/95)   \rUnpacking objects:  40% (38/95)   \rUnpacking objects:  41% (39/95)   \rUnpacking objects:  42% (40/95)   \rUnpacking objects:  43% (41/95)   \rUnpacking objects:  44% (42/95)   \rUnpacking objects:  45% (43/95)   \rUnpacking objects:  46% (44/95)   \rUnpacking objects:  47% (45/95)   \rUnpacking objects:  48% (46/95)   \rUnpacking objects:  49% (47/95)   \rUnpacking objects:  50% (48/95)   \rUnpacking objects:  51% (49/95)   \rUnpacking objects:  52% (50/95)   \rUnpacking objects:  53% (51/95)   \rUnpacking objects:  54% (52/95)   \rUnpacking objects:  55% (53/95)   \rUnpacking objects:  56% (54/95)   \rUnpacking objects:  57% (55/95)   \rUnpacking objects:  58% (56/95)   \rUnpacking objects:  60% (57/95)   \rUnpacking objects:  61% (58/95)   \rUnpacking objects:  62% (59/95)   \rUnpacking objects:  63% (60/95)   \rUnpacking objects:  64% (61/95)   \rUnpacking objects:  65% (62/95)   \rUnpacking objects:  66% (63/95)   \rUnpacking objects:  67% (64/95)   \rUnpacking objects:  68% (65/95)   \rUnpacking objects:  69% (66/95)   \rUnpacking objects:  70% (67/95)   \rUnpacking objects:  71% (68/95)   \rUnpacking objects:  72% (69/95)   \rUnpacking objects:  73% (70/95)   \rremote: Total 95 (delta 27), reused 66 (delta 15), pack-reused 0\u001b[K\n",
            "Unpacking objects:  74% (71/95)   \rUnpacking objects:  75% (72/95)   \rUnpacking objects:  76% (73/95)   \rUnpacking objects:  77% (74/95)   \rUnpacking objects:  78% (75/95)   \rUnpacking objects:  80% (76/95)   \rUnpacking objects:  81% (77/95)   \rUnpacking objects:  82% (78/95)   \rUnpacking objects:  83% (79/95)   \rUnpacking objects:  84% (80/95)   \rUnpacking objects:  85% (81/95)   \rUnpacking objects:  86% (82/95)   \rUnpacking objects:  87% (83/95)   \rUnpacking objects:  88% (84/95)   \rUnpacking objects:  89% (85/95)   \rUnpacking objects:  90% (86/95)   \rUnpacking objects:  91% (87/95)   \rUnpacking objects:  92% (88/95)   \rUnpacking objects:  93% (89/95)   \rUnpacking objects:  94% (90/95)   \rUnpacking objects:  95% (91/95)   \rUnpacking objects:  96% (92/95)   \rUnpacking objects:  97% (93/95)   \rUnpacking objects:  98% (94/95)   \rUnpacking objects: 100% (95/95)   \rUnpacking objects: 100% (95/95), done.\n"
          ]
        }
      ],
      "source": [
        "!git clone https://github.com/jingedawang/StockPredictor.git"
      ]
    },
    {
      "cell_type": "code",
      "source": [
        "!pip install pyqlib"
      ],
      "metadata": {
        "colab": {
          "base_uri": "https://localhost:8080/",
          "height": 1000
        },
        "id": "rG1J1g4aXi46",
        "outputId": "d3a1135d-61af-48a4-90b7-0fa564346157"
      },
      "execution_count": 6,
      "outputs": [
        {
          "output_type": "stream",
          "name": "stdout",
          "text": [
            "Looking in indexes: https://pypi.org/simple, https://us-python.pkg.dev/colab-wheels/public/simple/\n",
            "Requirement already satisfied: pyqlib in /usr/local/lib/python3.7/dist-packages/pyqlib-0.8.6.99-py3.7-linux-x86_64.egg (0.8.6.99)\n",
            "Requirement already satisfied: numpy>=1.12.0 in /usr/local/lib/python3.7/dist-packages (from pyqlib) (1.21.6)\n",
            "Requirement already satisfied: pandas>=0.25.1 in /usr/local/lib/python3.7/dist-packages (from pyqlib) (1.3.5)\n",
            "Requirement already satisfied: scipy>=1.0.0 in /usr/local/lib/python3.7/dist-packages (from pyqlib) (1.7.3)\n",
            "Requirement already satisfied: requests>=2.18.0 in /usr/local/lib/python3.7/dist-packages (from pyqlib) (2.23.0)\n",
            "Collecting sacred>=0.7.4\n",
            "  Downloading sacred-0.8.2-py2.py3-none-any.whl (106 kB)\n",
            "\u001b[K     |████████████████████████████████| 106 kB 5.3 MB/s \n",
            "\u001b[?25hCollecting python-socketio\n",
            "  Downloading python_socketio-5.7.1-py3-none-any.whl (56 kB)\n",
            "\u001b[K     |████████████████████████████████| 56 kB 4.3 MB/s \n",
            "\u001b[?25hCollecting redis>=3.0.1\n",
            "  Downloading redis-4.3.4-py3-none-any.whl (246 kB)\n",
            "\u001b[K     |████████████████████████████████| 246 kB 61.7 MB/s \n",
            "\u001b[?25hCollecting python-redis-lock>=3.3.1\n",
            "  Downloading python_redis_lock-3.7.0-py2.py3-none-any.whl (12 kB)\n",
            "Collecting schedule>=0.6.0\n",
            "  Downloading schedule-1.1.0-py2.py3-none-any.whl (10 kB)\n",
            "Requirement already satisfied: cvxpy>=1.0.21 in /usr/local/lib/python3.7/dist-packages (from pyqlib) (1.2.1)\n",
            "Requirement already satisfied: hyperopt==0.1.2 in /usr/local/lib/python3.7/dist-packages (from pyqlib) (0.1.2)\n",
            "Collecting fire>=0.3.1\n",
            "  Downloading fire-0.4.0.tar.gz (87 kB)\n",
            "\u001b[K     |████████████████████████████████| 87 kB 6.6 MB/s \n",
            "\u001b[?25hRequirement already satisfied: statsmodels in /usr/local/lib/python3.7/dist-packages (from pyqlib) (0.12.2)\n",
            "Requirement already satisfied: xlrd>=1.0.0 in /usr/local/lib/python3.7/dist-packages (from pyqlib) (1.1.0)\n",
            "Requirement already satisfied: plotly>=4.12.0 in /usr/local/lib/python3.7/dist-packages (from pyqlib) (5.5.0)\n",
            "Collecting matplotlib>=3.3\n",
            "  Downloading matplotlib-3.5.3-cp37-cp37m-manylinux_2_5_x86_64.manylinux1_x86_64.whl (11.2 MB)\n",
            "\u001b[K     |████████████████████████████████| 11.2 MB 41.6 MB/s \n",
            "\u001b[?25hRequirement already satisfied: tables>=3.6.1 in /usr/local/lib/python3.7/dist-packages (from pyqlib) (3.7.0)\n",
            "Requirement already satisfied: pyyaml>=5.3.1 in /usr/local/lib/python3.7/dist-packages (from pyqlib) (6.0)\n",
            "Requirement already satisfied: mlflow>=1.12.1 in /usr/local/lib/python3.7/dist-packages/mlflow-1.28.0-py3.7.egg (from pyqlib) (1.28.0)\n",
            "Requirement already satisfied: tqdm in /usr/local/lib/python3.7/dist-packages (from pyqlib) (4.64.0)\n",
            "Requirement already satisfied: loguru in /usr/local/lib/python3.7/dist-packages/loguru-0.6.0-py3.7.egg (from pyqlib) (0.6.0)\n",
            "Collecting lightgbm>=3.3.0\n",
            "  Downloading lightgbm-3.3.2-py3-none-manylinux1_x86_64.whl (2.0 MB)\n",
            "\u001b[K     |████████████████████████████████| 2.0 MB 21.8 MB/s \n",
            "\u001b[?25hRequirement already satisfied: tornado in /usr/local/lib/python3.7/dist-packages (from pyqlib) (5.1.1)\n",
            "Requirement already satisfied: joblib>=0.17.0 in /usr/local/lib/python3.7/dist-packages (from pyqlib) (1.1.0)\n",
            "Requirement already satisfied: ruamel.yaml>=0.16.12 in /usr/local/lib/python3.7/dist-packages/ruamel.yaml-0.17.21-py3.7.egg (from pyqlib) (0.17.21)\n",
            "Collecting pymongo==3.7.2\n",
            "  Downloading pymongo-3.7.2-cp37-cp37m-manylinux1_x86_64.whl (406 kB)\n",
            "\u001b[K     |████████████████████████████████| 406 kB 58.0 MB/s \n",
            "\u001b[?25hRequirement already satisfied: scikit-learn>=0.22 in /usr/local/lib/python3.7/dist-packages (from pyqlib) (1.0.2)\n",
            "Requirement already satisfied: dill in /usr/local/lib/python3.7/dist-packages (from pyqlib) (0.3.5.1)\n",
            "Requirement already satisfied: filelock in /usr/local/lib/python3.7/dist-packages (from pyqlib) (3.8.0)\n",
            "Requirement already satisfied: jinja2<3.1.0 in /usr/local/lib/python3.7/dist-packages (from pyqlib) (2.11.3)\n",
            "Requirement already satisfied: gym in /usr/local/lib/python3.7/dist-packages (from pyqlib) (0.25.2)\n",
            "Requirement already satisfied: protobuf<=3.20.1 in /usr/local/lib/python3.7/dist-packages (from pyqlib) (3.17.3)\n",
            "Requirement already satisfied: networkx in /usr/local/lib/python3.7/dist-packages (from hyperopt==0.1.2->pyqlib) (2.6.3)\n",
            "Requirement already satisfied: future in /usr/local/lib/python3.7/dist-packages (from hyperopt==0.1.2->pyqlib) (0.16.0)\n",
            "Requirement already satisfied: six in /usr/local/lib/python3.7/dist-packages (from hyperopt==0.1.2->pyqlib) (1.15.0)\n",
            "Requirement already satisfied: ecos>=2 in /usr/local/lib/python3.7/dist-packages (from cvxpy>=1.0.21->pyqlib) (2.0.10)\n",
            "Requirement already satisfied: scs>=1.1.6 in /usr/local/lib/python3.7/dist-packages (from cvxpy>=1.0.21->pyqlib) (3.2.0)\n",
            "Requirement already satisfied: osqp>=0.4.1 in /usr/local/lib/python3.7/dist-packages (from cvxpy>=1.0.21->pyqlib) (0.6.2.post0)\n",
            "Requirement already satisfied: termcolor in /usr/local/lib/python3.7/dist-packages (from fire>=0.3.1->pyqlib) (1.1.0)\n",
            "Requirement already satisfied: MarkupSafe>=0.23 in /usr/local/lib/python3.7/dist-packages (from jinja2<3.1.0->pyqlib) (2.0.1)\n",
            "Requirement already satisfied: wheel in /usr/local/lib/python3.7/dist-packages (from lightgbm>=3.3.0->pyqlib) (0.37.1)\n",
            "Requirement already satisfied: pillow>=6.2.0 in /usr/local/lib/python3.7/dist-packages (from matplotlib>=3.3->pyqlib) (7.1.2)\n",
            "Requirement already satisfied: kiwisolver>=1.0.1 in /usr/local/lib/python3.7/dist-packages (from matplotlib>=3.3->pyqlib) (1.4.4)\n",
            "Collecting fonttools>=4.22.0\n",
            "  Downloading fonttools-4.37.1-py3-none-any.whl (957 kB)\n",
            "\u001b[K     |████████████████████████████████| 957 kB 56.6 MB/s \n",
            "\u001b[?25hRequirement already satisfied: cycler>=0.10 in /usr/local/lib/python3.7/dist-packages (from matplotlib>=3.3->pyqlib) (0.11.0)\n",
            "Requirement already satisfied: packaging>=20.0 in /usr/local/lib/python3.7/dist-packages (from matplotlib>=3.3->pyqlib) (21.3)\n",
            "Requirement already satisfied: pyparsing>=2.2.1 in /usr/local/lib/python3.7/dist-packages (from matplotlib>=3.3->pyqlib) (3.0.9)\n",
            "Requirement already satisfied: python-dateutil>=2.7 in /usr/local/lib/python3.7/dist-packages (from matplotlib>=3.3->pyqlib) (2.8.2)\n",
            "Requirement already satisfied: typing-extensions in /usr/local/lib/python3.7/dist-packages (from kiwisolver>=1.0.1->matplotlib>=3.3->pyqlib) (4.1.1)\n",
            "Requirement already satisfied: Flask<3 in /usr/local/lib/python3.7/dist-packages (from mlflow>=1.12.1->pyqlib) (1.1.4)\n",
            "Collecting alembic<2\n",
            "  Downloading alembic-1.8.1-py3-none-any.whl (209 kB)\n",
            "\u001b[K     |████████████████████████████████| 209 kB 67.3 MB/s \n",
            "\u001b[?25hRequirement already satisfied: click<9,>=7.0 in /usr/local/lib/python3.7/dist-packages (from mlflow>=1.12.1->pyqlib) (7.1.2)\n",
            "Requirement already satisfied: cloudpickle<3 in /usr/local/lib/python3.7/dist-packages (from mlflow>=1.12.1->pyqlib) (1.5.0)\n",
            "Collecting databricks-cli<1,>=0.8.7\n",
            "  Downloading databricks-cli-0.17.3.tar.gz (77 kB)\n",
            "\u001b[K     |████████████████████████████████| 77 kB 6.4 MB/s \n",
            "\u001b[?25hCollecting docker<6,>=4.0.0\n",
            "  Downloading docker-5.0.3-py2.py3-none-any.whl (146 kB)\n",
            "\u001b[K     |████████████████████████████████| 146 kB 67.7 MB/s \n",
            "\u001b[?25hRequirement already satisfied: entrypoints<1 in /usr/local/lib/python3.7/dist-packages (from mlflow>=1.12.1->pyqlib) (0.4)\n",
            "Collecting gitpython<4,>=2.1.0\n",
            "  Downloading GitPython-3.1.27-py3-none-any.whl (181 kB)\n",
            "\u001b[K     |████████████████████████████████| 181 kB 72.0 MB/s \n",
            "\u001b[?25hCollecting gunicorn<21\n",
            "  Downloading gunicorn-20.1.0-py3-none-any.whl (79 kB)\n",
            "\u001b[K     |████████████████████████████████| 79 kB 7.8 MB/s \n",
            "\u001b[?25hRequirement already satisfied: importlib-metadata!=4.7.0,<5,>=3.7.0 in /usr/local/lib/python3.7/dist-packages (from mlflow>=1.12.1->pyqlib) (4.12.0)\n",
            "Collecting prometheus-flask-exporter<1\n",
            "  Downloading prometheus_flask_exporter-0.20.3-py3-none-any.whl (18 kB)\n",
            "Requirement already satisfied: pytz<2023 in /usr/local/lib/python3.7/dist-packages (from mlflow>=1.12.1->pyqlib) (2022.2.1)\n",
            "Collecting querystring-parser<2\n",
            "  Downloading querystring_parser-1.2.4-py2.py3-none-any.whl (7.9 kB)\n",
            "Requirement already satisfied: sqlalchemy<2,>=1.4.0 in /usr/local/lib/python3.7/dist-packages (from mlflow>=1.12.1->pyqlib) (1.4.40)\n",
            "Requirement already satisfied: sqlparse<1,>=0.4.0 in /usr/local/lib/python3.7/dist-packages (from mlflow>=1.12.1->pyqlib) (0.4.2)\n",
            "Requirement already satisfied: importlib-resources in /usr/local/lib/python3.7/dist-packages (from alembic<2->mlflow>=1.12.1->pyqlib) (5.9.0)\n",
            "Collecting Mako\n",
            "  Downloading Mako-1.2.2-py3-none-any.whl (78 kB)\n",
            "\u001b[K     |████████████████████████████████| 78 kB 6.7 MB/s \n",
            "\u001b[?25hCollecting pyjwt>=1.7.0\n",
            "  Downloading PyJWT-2.4.0-py3-none-any.whl (18 kB)\n",
            "Requirement already satisfied: oauthlib>=3.1.0 in /usr/local/lib/python3.7/dist-packages (from databricks-cli<1,>=0.8.7->mlflow>=1.12.1->pyqlib) (3.2.0)\n",
            "Requirement already satisfied: tabulate>=0.7.7 in /usr/local/lib/python3.7/dist-packages (from databricks-cli<1,>=0.8.7->mlflow>=1.12.1->pyqlib) (0.8.10)\n",
            "Collecting websocket-client>=0.32.0\n",
            "  Downloading websocket_client-1.4.0-py3-none-any.whl (54 kB)\n",
            "\u001b[K     |████████████████████████████████| 54 kB 2.4 MB/s \n",
            "\u001b[?25hRequirement already satisfied: Werkzeug<2.0,>=0.15 in /usr/local/lib/python3.7/dist-packages (from Flask<3->mlflow>=1.12.1->pyqlib) (1.0.1)\n",
            "Requirement already satisfied: itsdangerous<2.0,>=0.24 in /usr/local/lib/python3.7/dist-packages (from Flask<3->mlflow>=1.12.1->pyqlib) (1.1.0)\n",
            "Collecting gitdb<5,>=4.0.1\n",
            "  Downloading gitdb-4.0.9-py3-none-any.whl (63 kB)\n",
            "\u001b[K     |████████████████████████████████| 63 kB 1.5 MB/s \n",
            "\u001b[?25hCollecting smmap<6,>=3.0.1\n",
            "  Downloading smmap-5.0.0-py3-none-any.whl (24 kB)\n",
            "Requirement already satisfied: setuptools>=3.0 in /usr/local/lib/python3.7/dist-packages (from gunicorn<21->mlflow>=1.12.1->pyqlib) (57.4.0)\n",
            "Requirement already satisfied: zipp>=0.5 in /usr/local/lib/python3.7/dist-packages (from importlib-metadata!=4.7.0,<5,>=3.7.0->mlflow>=1.12.1->pyqlib) (3.8.1)\n",
            "Requirement already satisfied: qdldl in /usr/local/lib/python3.7/dist-packages (from osqp>=0.4.1->cvxpy>=1.0.21->pyqlib) (0.1.5.post2)\n",
            "Requirement already satisfied: tenacity>=6.2.0 in /usr/local/lib/python3.7/dist-packages (from plotly>=4.12.0->pyqlib) (8.0.1)\n",
            "Collecting prometheus-client\n",
            "  Downloading prometheus_client-0.14.1-py3-none-any.whl (59 kB)\n",
            "\u001b[K     |████████████████████████████████| 59 kB 6.6 MB/s \n",
            "\u001b[?25hRequirement already satisfied: async-timeout>=4.0.2 in /usr/local/lib/python3.7/dist-packages (from redis>=3.0.1->pyqlib) (4.0.2)\n",
            "Collecting deprecated>=1.2.3\n",
            "  Downloading Deprecated-1.2.13-py2.py3-none-any.whl (9.6 kB)\n",
            "Requirement already satisfied: wrapt<2,>=1.10 in /usr/local/lib/python3.7/dist-packages (from deprecated>=1.2.3->redis>=3.0.1->pyqlib) (1.14.1)\n",
            "Requirement already satisfied: certifi>=2017.4.17 in /usr/local/lib/python3.7/dist-packages (from requests>=2.18.0->pyqlib) (2022.6.15)\n",
            "Requirement already satisfied: chardet<4,>=3.0.2 in /usr/local/lib/python3.7/dist-packages (from requests>=2.18.0->pyqlib) (3.0.4)\n",
            "Requirement already satisfied: urllib3!=1.25.0,!=1.25.1,<1.26,>=1.21.1 in /usr/local/lib/python3.7/dist-packages (from requests>=2.18.0->pyqlib) (1.24.3)\n",
            "Requirement already satisfied: idna<3,>=2.5 in /usr/local/lib/python3.7/dist-packages (from requests>=2.18.0->pyqlib) (2.10)\n",
            "Collecting ruamel.yaml.clib>=0.2.6\n",
            "  Downloading ruamel.yaml.clib-0.2.6-cp37-cp37m-manylinux1_x86_64.whl (546 kB)\n",
            "\u001b[K     |████████████████████████████████| 546 kB 59.4 MB/s \n",
            "\u001b[?25hCollecting jsonpickle<2.0,>=1.2\n",
            "  Downloading jsonpickle-1.5.2-py2.py3-none-any.whl (37 kB)\n",
            "Collecting docopt<1.0,>=0.3\n",
            "  Downloading docopt-0.6.2.tar.gz (25 kB)\n",
            "Collecting py-cpuinfo>=4.0\n",
            "  Downloading py-cpuinfo-8.0.0.tar.gz (99 kB)\n",
            "\u001b[K     |████████████████████████████████| 99 kB 7.5 MB/s \n",
            "\u001b[?25hCollecting colorama>=0.4\n",
            "  Downloading colorama-0.4.5-py2.py3-none-any.whl (16 kB)\n",
            "Collecting munch<3.0,>=2.0.2\n",
            "  Downloading munch-2.5.0-py2.py3-none-any.whl (10 kB)\n",
            "Requirement already satisfied: threadpoolctl>=2.0.0 in /usr/local/lib/python3.7/dist-packages (from scikit-learn>=0.22->pyqlib) (3.1.0)\n",
            "Requirement already satisfied: greenlet!=0.4.17 in /usr/local/lib/python3.7/dist-packages (from sqlalchemy<2,>=1.4.0->mlflow>=1.12.1->pyqlib) (1.1.3)\n",
            "Requirement already satisfied: numexpr>=2.6.2 in /usr/local/lib/python3.7/dist-packages (from tables>=3.6.1->pyqlib) (2.8.3)\n",
            "Requirement already satisfied: gym-notices>=0.0.4 in /usr/local/lib/python3.7/dist-packages (from gym->pyqlib) (0.0.8)\n",
            "Collecting python-engineio>=4.3.0\n",
            "  Downloading python_engineio-4.3.4-py3-none-any.whl (52 kB)\n",
            "\u001b[K     |████████████████████████████████| 52 kB 1.4 MB/s \n",
            "\u001b[?25hCollecting bidict>=0.21.0\n",
            "  Downloading bidict-0.22.0-py3-none-any.whl (36 kB)\n",
            "Requirement already satisfied: patsy>=0.5 in /usr/local/lib/python3.7/dist-packages (from statsmodels->pyqlib) (0.5.2)\n",
            "Building wheels for collected packages: fire, databricks-cli, docopt, py-cpuinfo\n",
            "  Building wheel for fire (setup.py) ... \u001b[?25l\u001b[?25hdone\n",
            "  Created wheel for fire: filename=fire-0.4.0-py2.py3-none-any.whl size=115942 sha256=91c2e8f0655a64f8e7d295e128c24582c8ed506e66654d15a910a73371d9b9be\n",
            "  Stored in directory: /root/.cache/pip/wheels/8a/67/fb/2e8a12fa16661b9d5af1f654bd199366799740a85c64981226\n",
            "  Building wheel for databricks-cli (setup.py) ... \u001b[?25l\u001b[?25hdone\n",
            "  Created wheel for databricks-cli: filename=databricks_cli-0.17.3-py3-none-any.whl size=139102 sha256=398683dceec9aae98a99ecc569ae16af551852471499880621b39d86b8717ea3\n",
            "  Stored in directory: /root/.cache/pip/wheels/3f/73/87/c1e4b2145eb6049bb6c9aaf7ea1e38302b77ca219b6fef5d5c\n",
            "  Building wheel for docopt (setup.py) ... \u001b[?25l\u001b[?25hdone\n",
            "  Created wheel for docopt: filename=docopt-0.6.2-py2.py3-none-any.whl size=13723 sha256=ffd6d91740fe2663f087d20150ef20657b56a66c33215c662df12935bc8b0f13\n",
            "  Stored in directory: /root/.cache/pip/wheels/72/b0/3f/1d95f96ff986c7dfffe46ce2be4062f38ebd04b506c77c81b9\n",
            "  Building wheel for py-cpuinfo (setup.py) ... \u001b[?25l\u001b[?25hdone\n",
            "  Created wheel for py-cpuinfo: filename=py_cpuinfo-8.0.0-py3-none-any.whl size=22257 sha256=b84bef1d3822ab58b84db3382329d7c031004b300271b2e065d47d83e5c88459\n",
            "  Stored in directory: /root/.cache/pip/wheels/d2/f1/1f/041add21dc9c4220157f1bd2bd6afe1f1a49524c3396b94401\n",
            "Successfully built fire databricks-cli docopt py-cpuinfo\n",
            "Installing collected packages: smmap, websocket-client, pyjwt, prometheus-client, Mako, gitdb, deprecated, ruamel.yaml.clib, redis, querystring-parser, python-engineio, pymongo, py-cpuinfo, prometheus-flask-exporter, munch, jsonpickle, gunicorn, gitpython, fonttools, docopt, docker, databricks-cli, colorama, bidict, alembic, schedule, sacred, python-socketio, python-redis-lock, matplotlib, lightgbm, fire\n",
            "  Attempting uninstall: pymongo\n",
            "    Found existing installation: pymongo 4.2.0\n",
            "    Uninstalling pymongo-4.2.0:\n",
            "      Successfully uninstalled pymongo-4.2.0\n",
            "  Attempting uninstall: matplotlib\n",
            "    Found existing installation: matplotlib 3.2.2\n",
            "    Uninstalling matplotlib-3.2.2:\n",
            "      Successfully uninstalled matplotlib-3.2.2\n",
            "  Attempting uninstall: lightgbm\n",
            "    Found existing installation: lightgbm 2.2.3\n",
            "    Uninstalling lightgbm-2.2.3:\n",
            "      Successfully uninstalled lightgbm-2.2.3\n",
            "Successfully installed Mako-1.2.2 alembic-1.8.1 bidict-0.22.0 colorama-0.4.5 databricks-cli-0.17.3 deprecated-1.2.13 docker-5.0.3 docopt-0.6.2 fire-0.4.0 fonttools-4.37.1 gitdb-4.0.9 gitpython-3.1.27 gunicorn-20.1.0 jsonpickle-1.5.2 lightgbm-3.3.2 matplotlib-3.5.3 munch-2.5.0 prometheus-client-0.14.1 prometheus-flask-exporter-0.20.3 py-cpuinfo-8.0.0 pyjwt-2.4.0 pymongo-3.7.2 python-engineio-4.3.4 python-redis-lock-3.7.0 python-socketio-5.7.1 querystring-parser-1.2.4 redis-4.3.4 ruamel.yaml.clib-0.2.6 sacred-0.8.2 schedule-1.1.0 smmap-5.0.0 websocket-client-1.4.0\n"
          ]
        },
        {
          "output_type": "display_data",
          "data": {
            "application/vnd.colab-display-data+json": {
              "pip_warning": {
                "packages": [
                  "matplotlib",
                  "mpl_toolkits"
                ]
              }
            }
          },
          "metadata": {}
        }
      ]
    },
    {
      "cell_type": "code",
      "source": [
        "import qlib\n",
        "from qlib.constant import REG_US\n",
        "from qlib.data.dataset import DatasetH\n",
        "from qlib.utils import init_instance_by_config, flatten_dict\n",
        "from qlib.workflow import R\n",
        "from qlib.tests.data import GetData\n",
        "\n",
        "from StockPredictor.algorithm.stock_predictor.data_handler import Alpha158TwoWeeks\n",
        "\n",
        "import pickle"
      ],
      "metadata": {
        "id": "fszd1ZuKXW11"
      },
      "execution_count": 4,
      "outputs": []
    },
    {
      "cell_type": "code",
      "source": [
        "# use default data\n",
        "provider_uri = \"/content/drive/MyDrive/qlib_us_data\"  # target_dir\n",
        "qlib.init(provider_uri=provider_uri, region=REG_US)"
      ],
      "metadata": {
        "colab": {
          "base_uri": "https://localhost:8080/"
        },
        "id": "MgL5G1ZZYrtJ",
        "outputId": "7e778a56-2874-4604-fcfb-3353913c9d49"
      },
      "execution_count": 5,
      "outputs": [
        {
          "output_type": "stream",
          "name": "stderr",
          "text": [
            "[667:MainThread](2022-09-02 04:14:36,564) INFO - qlib.Initialization - [config.py:413] - default_conf: client.\n",
            "INFO:qlib.Initialization:default_conf: client.\n",
            "[667:MainThread](2022-09-02 04:14:36,578) INFO - qlib.Initialization - [__init__.py:74] - qlib successfully initialized based on client settings.\n",
            "INFO:qlib.Initialization:qlib successfully initialized based on client settings.\n",
            "[667:MainThread](2022-09-02 04:14:36,589) INFO - qlib.Initialization - [__init__.py:76] - data_path={'__DEFAULT_FREQ': PosixPath('/content/drive/MyDrive/qlib_us_data')}\n",
            "INFO:qlib.Initialization:data_path={'__DEFAULT_FREQ': PosixPath('/content/drive/MyDrive/qlib_us_data')}\n"
          ]
        }
      ]
    },
    {
      "cell_type": "code",
      "source": [
        "# Load data with our customized data handler.\n",
        "# The Alpha158TwoWeeks is different with Alpha158 only in the labels.\n",
        "# TODO: Data is important for model training, we need to try other adjustments to the data handler to acheive better results.\n",
        "data_handler = Alpha158TwoWeeks(instruments='sp500')\n",
        "dataset = DatasetH(\n",
        "          handler=data_handler,\n",
        "          segments={\n",
        "            \"train\": [\"2008-01-01\", \"2014-12-31\"],\n",
        "            \"valid\": [\"2015-01-01\", \"2016-12-31\"],\n",
        "            \"test\": [\"2017-01-01\", \"2020-08-01\"]\n",
        "            }\n",
        "          )"
      ],
      "metadata": {
        "colab": {
          "base_uri": "https://localhost:8080/"
        },
        "id": "3vyLz45fZSGx",
        "outputId": "6d2850b0-05b9-497c-9589-3c163b180dd8"
      },
      "execution_count": 8,
      "outputs": [
        {
          "output_type": "stream",
          "name": "stderr",
          "text": [
            "[667:MainThread](2022-09-02 05:15:33,159) INFO - qlib.timer - [log.py:117] - Time cost: 456.453s | Loading data Done\n",
            "INFO:qlib.timer:Time cost: 456.453s | Loading data Done\n",
            "[667:MainThread](2022-09-02 05:15:36,568) INFO - qlib.timer - [log.py:117] - Time cost: 0.691s | DropnaLabel Done\n",
            "INFO:qlib.timer:Time cost: 0.691s | DropnaLabel Done\n",
            "/usr/local/lib/python3.7/dist-packages/pandas/core/frame.py:3641: SettingWithCopyWarning: \n",
            "A value is trying to be set on a copy of a slice from a DataFrame.\n",
            "Try using .loc[row_indexer,col_indexer] = value instead\n",
            "\n",
            "See the caveats in the documentation: https://pandas.pydata.org/pandas-docs/stable/user_guide/indexing.html#returning-a-view-versus-a-copy\n",
            "  self[k1] = value[k2]\n",
            "[667:MainThread](2022-09-02 05:15:50,598) INFO - qlib.timer - [log.py:117] - Time cost: 14.025s | CSZScoreNorm Done\n",
            "INFO:qlib.timer:Time cost: 14.025s | CSZScoreNorm Done\n",
            "[667:MainThread](2022-09-02 05:15:50,648) INFO - qlib.timer - [log.py:117] - Time cost: 17.482s | fit & process data Done\n",
            "INFO:qlib.timer:Time cost: 17.482s | fit & process data Done\n",
            "[667:MainThread](2022-09-02 05:15:50,661) INFO - qlib.timer - [log.py:117] - Time cost: 473.955s | Init data Done\n",
            "INFO:qlib.timer:Time cost: 473.955s | Init data Done\n"
          ]
        }
      ]
    },
    {
      "cell_type": "code",
      "source": [
        "# NOTE: This line is optional.\n",
        "# Show the prepared training data to make sure we are using the correct data for trainning.\n",
        "example_df = dataset.prepare(\"train\")\n",
        "print(example_df.head())"
      ],
      "metadata": {
        "colab": {
          "base_uri": "https://localhost:8080/"
        },
        "id": "vXX-MDVvZBQe",
        "outputId": "89fbdc89-32b0-4d70-cb4f-29a43097a37a"
      },
      "execution_count": 9,
      "outputs": [
        {
          "output_type": "stream",
          "name": "stdout",
          "text": [
            "                           KMID      KLEN     KMID2       KUP      KUP2  \\\n",
            "datetime   instrument                                                     \n",
            "2008-01-02 A          -0.010090  0.018544 -0.544115  0.003545  0.191178   \n",
            "           AA         -0.009051  0.021393 -0.423081  0.008777  0.410255   \n",
            "           AAPL       -0.022231  0.038691 -0.574578  0.004968  0.128406   \n",
            "           ABC         0.001799  0.013717  0.131146  0.011468  0.836067   \n",
            "           ABK         0.076923  0.076923  1.000000  0.000000  0.000000   \n",
            "\n",
            "                           KLOW     KLOW2      KSFT     KSFT2     OPEN0  ...  \\\n",
            "datetime   instrument                                                    ...   \n",
            "2008-01-02 A           0.004909  0.264707 -0.008726 -0.470587  1.010193  ...   \n",
            "           AA          0.003565  0.166664 -0.014262 -0.666672  1.009134  ...   \n",
            "           AAPL        0.011492  0.297017 -0.015707 -0.405967  1.022737  ...   \n",
            "           ABC         0.000450  0.032788 -0.009220 -0.672133  0.998204  ...   \n",
            "           ABK         0.000000  0.000000  0.076923  1.000000  0.928571  ...   \n",
            "\n",
            "                        VSUMN10   VSUMN20   VSUMN30   VSUMN60    VSUMD5  \\\n",
            "datetime   instrument                                                     \n",
            "2008-01-02 A           0.526952  0.481317  0.607771  0.496175  0.526340   \n",
            "           AA          0.585064  0.502381  0.517447  0.507209  0.543628   \n",
            "           AAPL        0.489066  0.487531  0.519268  0.495789  0.538955   \n",
            "           ABC         0.546025  0.561187  0.523950  0.499997  0.428407   \n",
            "           ABK         0.514231  0.523129  0.529552  0.520334 -0.028463   \n",
            "\n",
            "                        VSUMD10   VSUMD20   VSUMD30   VSUMD60    LABEL0  \n",
            "datetime   instrument                                                    \n",
            "2008-01-02 A          -0.053904  0.037366 -0.215543  0.007651 -0.007513  \n",
            "           AA         -0.170129 -0.004761 -0.034894 -0.014419 -0.153634  \n",
            "           AAPL        0.021869  0.024938 -0.038536  0.008421 -0.181039  \n",
            "           ABC        -0.092051 -0.122375 -0.047899  0.000006  0.047523  \n",
            "           ABK        -0.028463 -0.046259 -0.059104 -0.040668 -0.045453  \n",
            "\n",
            "[5 rows x 159 columns]\n"
          ]
        }
      ]
    },
    {
      "cell_type": "code",
      "source": [
        "def get_dataset_config(\n",
        "    dataset_class=\"Alpha158\",\n",
        "    train=(\"2008-01-01\", \"2014-12-31\"),\n",
        "    valid=(\"2015-01-01\", \"2016-12-31\"),\n",
        "    test=(\"2017-01-01\", \"2020-08-01\"),\n",
        "    handler_kwargs={\"instruments\": \"sp500\"},\n",
        "):\n",
        "    return {\n",
        "        \"class\": \"DatasetH\",\n",
        "        \"module_path\": \"qlib.data.dataset\",\n",
        "        \"kwargs\": {\n",
        "            \"handler\": {\n",
        "                \"class\": dataset_class,\n",
        "                \"module_path\": \"qlib.contrib.data.handler\",\n",
        "                \"kwargs\": get_data_handler_config(**handler_kwargs),\n",
        "            },\n",
        "            \"segments\": {\n",
        "                \"train\": train,\n",
        "                \"valid\": valid,\n",
        "                \"test\": test,\n",
        "            },\n",
        "        },\n",
        "    }\n",
        "\n",
        "def get_data_handler_config(\n",
        "    start_time=\"2008-01-01\",\n",
        "    end_time=\"2020-08-01\",\n",
        "    fit_start_time=\"<dataset.kwargs.segments.train.0>\",\n",
        "    fit_end_time=\"<dataset.kwargs.segments.train.1>\",\n",
        "    instruments=\"sp500\",\n",
        "):\n",
        "    return {\n",
        "        \"start_time\": start_time,\n",
        "        \"end_time\": end_time,\n",
        "        \"fit_start_time\": fit_start_time,\n",
        "        \"fit_end_time\": fit_end_time,\n",
        "        \"instruments\": instruments,\n",
        "    }"
      ],
      "metadata": {
        "id": "tKLrprDmph9s"
      },
      "execution_count": 15,
      "outputs": []
    },
    {
      "cell_type": "code",
      "source": [
        "# Use GBDT model.\n",
        "# TODO: Model architecture is also important. We need to try different models to acheive better results.\n",
        "GBDT_MODEL = {\n",
        "    \"class\": \"LGBModel\",\n",
        "    \"module_path\": \"qlib.contrib.model.gbdt\",\n",
        "    \"kwargs\": {\n",
        "        \"loss\": \"mse\",\n",
        "        \"colsample_bytree\": 0.8879,\n",
        "        \"learning_rate\": 0.0421,\n",
        "        \"subsample\": 0.8789,\n",
        "        \"lambda_l1\": 205.6999,\n",
        "        \"lambda_l2\": 580.9768,\n",
        "        \"max_depth\": 8,\n",
        "        \"num_leaves\": 210,\n",
        "        \"num_threads\": 20,\n",
        "    },\n",
        "}\n",
        "\n",
        "def get_gbdt_task(dataset_kwargs={}, handler_kwargs={\"instruments\": \"sp500\"}):\n",
        "    return {\n",
        "        \"model\": GBDT_MODEL,\n",
        "        \"dataset\": get_dataset_config(**dataset_kwargs, handler_kwargs=handler_kwargs),\n",
        "    }\n",
        "\n",
        "\n",
        "SP500_GBDT_TASK = get_gbdt_task(handler_kwargs={\"instruments\": \"sp500\"})\n",
        "model = init_instance_by_config(SP500_GBDT_TASK[\"model\"])"
      ],
      "metadata": {
        "colab": {
          "base_uri": "https://localhost:8080/"
        },
        "id": "5eZGL7vOZZF7",
        "outputId": "1b35a5ca-5d50-412a-ab24-056ffdcfe0c3"
      },
      "execution_count": 16,
      "outputs": [
        {
          "output_type": "stream",
          "name": "stdout",
          "text": [
            "ModuleNotFoundError. CatBoostModel are skipped. (optional: maybe installing CatBoostModel can fix it.)\n"
          ]
        }
      ]
    },
    {
      "cell_type": "code",
      "source": [
        "# start experiment.\n",
        "with R.start(experiment_name=\"workflow\"):\n",
        "    R.log_params(**flatten_dict(SP500_GBDT_TASK))\n",
        "    model.fit(dataset)\n",
        "    R.save_objects(**{\"params.pkl\": model})\n",
        "\n",
        "    pred = model.predict(dataset)\n",
        "    print('pred', pred)\n",
        "\n",
        "# TODO: We need do backtest to evaluate our model."
      ],
      "metadata": {
        "colab": {
          "base_uri": "https://localhost:8080/"
        },
        "id": "Kh6TEMWMZGBy",
        "outputId": "8b94ab7a-b150-486e-b973-c5ccb8805b24"
      },
      "execution_count": 17,
      "outputs": [
        {
          "output_type": "stream",
          "name": "stderr",
          "text": [
            "[667:MainThread](2022-09-02 05:24:28,919) INFO - qlib.workflow - [expm.py:315] - <mlflow.tracking.client.MlflowClient object at 0x7feade9fcb50>\n",
            "INFO:qlib.workflow:<mlflow.tracking.client.MlflowClient object at 0x7feade9fcb50>\n",
            "[667:MainThread](2022-09-02 05:24:28,934) WARNING - qlib.workflow - [expm.py:195] - No valid experiment found. Create a new experiment with name workflow.\n",
            "WARNING:qlib.workflow:No valid experiment found. Create a new experiment with name workflow.\n",
            "[667:MainThread](2022-09-02 05:24:28,945) INFO - qlib.workflow - [exp.py:260] - Experiment 1 starts running ...\n",
            "INFO:qlib.workflow:Experiment 1 starts running ...\n",
            "[667:MainThread](2022-09-02 05:24:29,710) INFO - qlib.workflow - [recorder.py:339] - Recorder d5ff3e01701b4613a4bebdc15ea931c1 starts running under Experiment 1 ...\n",
            "INFO:qlib.workflow:Recorder d5ff3e01701b4613a4bebdc15ea931c1 starts running under Experiment 1 ...\n",
            "[667:MainThread](2022-09-02 05:24:29,908) INFO - qlib.workflow - [recorder.py:372] - Fail to log the uncommitted code of $CWD when run `git diff`\n",
            "INFO:qlib.workflow:Fail to log the uncommitted code of $CWD when run `git diff`\n",
            "[667:MainThread](2022-09-02 05:24:30,118) INFO - qlib.workflow - [recorder.py:372] - Fail to log the uncommitted code of $CWD when run `git status`\n",
            "INFO:qlib.workflow:Fail to log the uncommitted code of $CWD when run `git status`\n",
            "[667:MainThread](2022-09-02 05:24:30,311) INFO - qlib.workflow - [recorder.py:372] - Fail to log the uncommitted code of $CWD when run `git diff --cached`\n",
            "INFO:qlib.workflow:Fail to log the uncommitted code of $CWD when run `git diff --cached`\n"
          ]
        },
        {
          "output_type": "stream",
          "name": "stdout",
          "text": [
            "Training until validation scores don't improve for 50 rounds\n",
            "[20]\ttrain's l2: 0.982006\tvalid's l2: 0.997296\n",
            "[40]\ttrain's l2: 0.970632\tvalid's l2: 0.997015\n",
            "[60]\ttrain's l2: 0.96202\tvalid's l2: 0.997033\n",
            "[80]\ttrain's l2: 0.955098\tvalid's l2: 0.997051\n",
            "[100]\ttrain's l2: 0.949218\tvalid's l2: 0.997134\n",
            "Early stopping, best iteration is:\n",
            "[68]\ttrain's l2: 0.959171\tvalid's l2: 0.996992\n"
          ]
        },
        {
          "output_type": "stream",
          "name": "stderr",
          "text": [
            "[667:MainThread](2022-09-02 05:25:44,240) INFO - qlib.timer - [log.py:117] - Time cost: 0.000s | waiting `async_log` Done\n",
            "INFO:qlib.timer:Time cost: 0.000s | waiting `async_log` Done\n"
          ]
        },
        {
          "output_type": "stream",
          "name": "stdout",
          "text": [
            "pred datetime    instrument\n",
            "2017-01-03  A            -0.013359\n",
            "            AAL           0.038548\n",
            "            AAP           0.065628\n",
            "            AAPL         -0.011128\n",
            "            ABBV          0.014177\n",
            "                            ...   \n",
            "2020-07-31  YUM          -0.004051\n",
            "            ZBH          -0.029806\n",
            "            ZBRA         -0.039705\n",
            "            ZION          0.046226\n",
            "            ZTS          -0.043556\n",
            "Length: 443290, dtype: float64\n"
          ]
        }
      ]
    },
    {
      "cell_type": "code",
      "source": [
        "pred.shape"
      ],
      "metadata": {
        "colab": {
          "base_uri": "https://localhost:8080/"
        },
        "id": "1pUkRe_6b2Sc",
        "outputId": "0670a611-4323-44e0-d282-f038463cfee4"
      },
      "execution_count": 19,
      "outputs": [
        {
          "output_type": "execute_result",
          "data": {
            "text/plain": [
              "(443290,)"
            ]
          },
          "metadata": {},
          "execution_count": 19
        }
      ]
    },
    {
      "cell_type": "code",
      "source": [
        "import pandas as pd\n",
        "dfp = pd.DataFrame(pred)"
      ],
      "metadata": {
        "id": "sDOyOzluqj9c"
      },
      "execution_count": 20,
      "outputs": []
    },
    {
      "cell_type": "code",
      "source": [
        "dfp.tail()"
      ],
      "metadata": {
        "colab": {
          "base_uri": "https://localhost:8080/",
          "height": 238
        },
        "id": "F7xWKeZPsvn0",
        "outputId": "341a9fa3-3258-4e96-b935-66b954d26788"
      },
      "execution_count": 22,
      "outputs": [
        {
          "output_type": "execute_result",
          "data": {
            "text/plain": [
              "                              0\n",
              "datetime   instrument          \n",
              "2020-07-31 YUM        -0.004051\n",
              "           ZBH        -0.029806\n",
              "           ZBRA       -0.039705\n",
              "           ZION        0.046226\n",
              "           ZTS        -0.043556"
            ],
            "text/html": [
              "\n",
              "  <div id=\"df-34b68f73-3b5c-4ff0-9cec-6193ff1d094e\">\n",
              "    <div class=\"colab-df-container\">\n",
              "      <div>\n",
              "<style scoped>\n",
              "    .dataframe tbody tr th:only-of-type {\n",
              "        vertical-align: middle;\n",
              "    }\n",
              "\n",
              "    .dataframe tbody tr th {\n",
              "        vertical-align: top;\n",
              "    }\n",
              "\n",
              "    .dataframe thead th {\n",
              "        text-align: right;\n",
              "    }\n",
              "</style>\n",
              "<table border=\"1\" class=\"dataframe\">\n",
              "  <thead>\n",
              "    <tr style=\"text-align: right;\">\n",
              "      <th></th>\n",
              "      <th></th>\n",
              "      <th>0</th>\n",
              "    </tr>\n",
              "    <tr>\n",
              "      <th>datetime</th>\n",
              "      <th>instrument</th>\n",
              "      <th></th>\n",
              "    </tr>\n",
              "  </thead>\n",
              "  <tbody>\n",
              "    <tr>\n",
              "      <th rowspan=\"5\" valign=\"top\">2020-07-31</th>\n",
              "      <th>YUM</th>\n",
              "      <td>-0.004051</td>\n",
              "    </tr>\n",
              "    <tr>\n",
              "      <th>ZBH</th>\n",
              "      <td>-0.029806</td>\n",
              "    </tr>\n",
              "    <tr>\n",
              "      <th>ZBRA</th>\n",
              "      <td>-0.039705</td>\n",
              "    </tr>\n",
              "    <tr>\n",
              "      <th>ZION</th>\n",
              "      <td>0.046226</td>\n",
              "    </tr>\n",
              "    <tr>\n",
              "      <th>ZTS</th>\n",
              "      <td>-0.043556</td>\n",
              "    </tr>\n",
              "  </tbody>\n",
              "</table>\n",
              "</div>\n",
              "      <button class=\"colab-df-convert\" onclick=\"convertToInteractive('df-34b68f73-3b5c-4ff0-9cec-6193ff1d094e')\"\n",
              "              title=\"Convert this dataframe to an interactive table.\"\n",
              "              style=\"display:none;\">\n",
              "        \n",
              "  <svg xmlns=\"http://www.w3.org/2000/svg\" height=\"24px\"viewBox=\"0 0 24 24\"\n",
              "       width=\"24px\">\n",
              "    <path d=\"M0 0h24v24H0V0z\" fill=\"none\"/>\n",
              "    <path d=\"M18.56 5.44l.94 2.06.94-2.06 2.06-.94-2.06-.94-.94-2.06-.94 2.06-2.06.94zm-11 1L8.5 8.5l.94-2.06 2.06-.94-2.06-.94L8.5 2.5l-.94 2.06-2.06.94zm10 10l.94 2.06.94-2.06 2.06-.94-2.06-.94-.94-2.06-.94 2.06-2.06.94z\"/><path d=\"M17.41 7.96l-1.37-1.37c-.4-.4-.92-.59-1.43-.59-.52 0-1.04.2-1.43.59L10.3 9.45l-7.72 7.72c-.78.78-.78 2.05 0 2.83L4 21.41c.39.39.9.59 1.41.59.51 0 1.02-.2 1.41-.59l7.78-7.78 2.81-2.81c.8-.78.8-2.07 0-2.86zM5.41 20L4 18.59l7.72-7.72 1.47 1.35L5.41 20z\"/>\n",
              "  </svg>\n",
              "      </button>\n",
              "      \n",
              "  <style>\n",
              "    .colab-df-container {\n",
              "      display:flex;\n",
              "      flex-wrap:wrap;\n",
              "      gap: 12px;\n",
              "    }\n",
              "\n",
              "    .colab-df-convert {\n",
              "      background-color: #E8F0FE;\n",
              "      border: none;\n",
              "      border-radius: 50%;\n",
              "      cursor: pointer;\n",
              "      display: none;\n",
              "      fill: #1967D2;\n",
              "      height: 32px;\n",
              "      padding: 0 0 0 0;\n",
              "      width: 32px;\n",
              "    }\n",
              "\n",
              "    .colab-df-convert:hover {\n",
              "      background-color: #E2EBFA;\n",
              "      box-shadow: 0px 1px 2px rgba(60, 64, 67, 0.3), 0px 1px 3px 1px rgba(60, 64, 67, 0.15);\n",
              "      fill: #174EA6;\n",
              "    }\n",
              "\n",
              "    [theme=dark] .colab-df-convert {\n",
              "      background-color: #3B4455;\n",
              "      fill: #D2E3FC;\n",
              "    }\n",
              "\n",
              "    [theme=dark] .colab-df-convert:hover {\n",
              "      background-color: #434B5C;\n",
              "      box-shadow: 0px 1px 3px 1px rgba(0, 0, 0, 0.15);\n",
              "      filter: drop-shadow(0px 1px 2px rgba(0, 0, 0, 0.3));\n",
              "      fill: #FFFFFF;\n",
              "    }\n",
              "  </style>\n",
              "\n",
              "      <script>\n",
              "        const buttonEl =\n",
              "          document.querySelector('#df-34b68f73-3b5c-4ff0-9cec-6193ff1d094e button.colab-df-convert');\n",
              "        buttonEl.style.display =\n",
              "          google.colab.kernel.accessAllowed ? 'block' : 'none';\n",
              "\n",
              "        async function convertToInteractive(key) {\n",
              "          const element = document.querySelector('#df-34b68f73-3b5c-4ff0-9cec-6193ff1d094e');\n",
              "          const dataTable =\n",
              "            await google.colab.kernel.invokeFunction('convertToInteractive',\n",
              "                                                     [key], {});\n",
              "          if (!dataTable) return;\n",
              "\n",
              "          const docLinkHtml = 'Like what you see? Visit the ' +\n",
              "            '<a target=\"_blank\" href=https://colab.research.google.com/notebooks/data_table.ipynb>data table notebook</a>'\n",
              "            + ' to learn more about interactive tables.';\n",
              "          element.innerHTML = '';\n",
              "          dataTable['output_type'] = 'display_data';\n",
              "          await google.colab.output.renderOutput(dataTable, element);\n",
              "          const docLink = document.createElement('div');\n",
              "          docLink.innerHTML = docLinkHtml;\n",
              "          element.appendChild(docLink);\n",
              "        }\n",
              "      </script>\n",
              "    </div>\n",
              "  </div>\n",
              "  "
            ]
          },
          "metadata": {},
          "execution_count": 22
        }
      ]
    },
    {
      "cell_type": "code",
      "source": [],
      "metadata": {
        "id": "YMIsczjVswyz"
      },
      "execution_count": null,
      "outputs": []
    }
  ]
}