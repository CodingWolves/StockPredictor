{
 "cells": [
  {
   "cell_type": "code",
   "execution_count": null,
   "metadata": {},
   "outputs": [
    {
     "ename": "",
     "evalue": "",
     "output_type": "error",
     "traceback": [
      "\u001b[1;31mRunning cells with 'c:\\Users\\t-nweisler\\AppData\\Local\\Programs\\Python\\Python38\\python.exe' requires ipykernel package.\n",
      "\u001b[1;31mRun the following command to install 'ipykernel' into the Python environment. \n",
      "\u001b[1;31mCommand: 'c:/Users/t-nweisler/AppData/Local/Programs/Python/Python38/python.exe -m pip install ipykernel -U --user --force-reinstall'"
     ]
    }
   ],
   "source": [
    "import qlib as q\n",
    "from qlib.contrib.data.handler import Alpha158, DataHandlerLP\n",
    "from qlib.data.dataset import DatasetH\n",
    "from qlib.contrib.model.gbdt import LGBModel\n",
    "from qlib.workflow import R\n",
    "from qlib.utils import flatten_dict\n",
    "from qlib.workflow.record_temp import SignalRecord, PortAnaRecord"
   ]
  },
  {
   "cell_type": "code",
   "execution_count": null,
   "metadata": {},
   "outputs": [
    {
     "ename": "",
     "evalue": "",
     "output_type": "error",
     "traceback": [
      "\u001b[1;31mRunning cells with 'c:\\Users\\t-nweisler\\AppData\\Local\\Programs\\Python\\Python38\\python.exe' requires ipykernel package.\n",
      "\u001b[1;31mRun the following command to install 'ipykernel' into the Python environment. \n",
      "\u001b[1;31mCommand: 'c:/Users/t-nweisler/AppData/Local/Programs/Python/Python38/python.exe -m pip install ipykernel -U --user --force-reinstall'"
     ]
    }
   ],
   "source": [
    "class Alpha158TwoWeeks(Alpha158):\n",
    "    \"\"\"\n",
    "    A data handler which labels the items with price increase in next 10 trading days.\n",
    "    \"\"\"\n",
    "\n",
    "    def get_label_config(self):\n",
    "        \"\"\"\n",
    "        Override the get_label_config method in Alpha158.\n",
    "        This will build a data handler that labels the items with price increase in next 10 trading days.\n",
    "        \"\"\"\n",
    "        return [\"Ref($close, -10)/Ref($close, -1) - 1\"], [\"LABEL0\"]\n",
    "\n"
   ]
  },
  {
   "cell_type": "code",
   "execution_count": null,
   "metadata": {},
   "outputs": [
    {
     "ename": "",
     "evalue": "",
     "output_type": "error",
     "traceback": [
      "\u001b[1;31mRunning cells with 'c:\\Users\\t-nweisler\\AppData\\Local\\Programs\\Python\\Python38\\python.exe' requires ipykernel package.\n",
      "\u001b[1;31mRun the following command to install 'ipykernel' into the Python environment. \n",
      "\u001b[1;31mCommand: 'c:/Users/t-nweisler/AppData/Local/Programs/Python/Python38/python.exe -m pip install ipykernel -U --user --force-reinstall'"
     ]
    }
   ],
   "source": [
    "q.init(provider_uri='stockData/cn_data_1min')"
   ]
  },
  {
   "cell_type": "code",
   "execution_count": null,
   "metadata": {},
   "outputs": [
    {
     "ename": "",
     "evalue": "",
     "output_type": "error",
     "traceback": [
      "\u001b[1;31mRunning cells with 'c:\\Users\\t-nweisler\\AppData\\Local\\Programs\\Python\\Python38\\python.exe' requires ipykernel package.\n",
      "\u001b[1;31mRun the following command to install 'ipykernel' into the Python environment. \n",
      "\u001b[1;31mCommand: 'c:/Users/t-nweisler/AppData/Local/Programs/Python/Python38/python.exe -m pip install ipykernel -U --user --force-reinstall'"
     ]
    }
   ],
   "source": [
    "instruments = 'csi300'\n",
    "start_time = '2020-12-01 09:00:00'\n",
    "end_time = '2020-12-08 14:55:00'\n",
    "fit_start_time = '2020-12-01 09:00:00'\n",
    "fit_end_time = '2020-12-06 14:55:00'\n",
    "valid_start_time = '2020-12-07 09:00:00'\n",
    "valid_end_time = '2020-12-07 14:55:00'\n",
    "test_start_time = '2020-12-08 09:00:00'\n",
    "test_end_time = '2020-12-08 14:55:00'\n",
    "freq = '1min'"
   ]
  },
  {
   "cell_type": "code",
   "execution_count": null,
   "metadata": {},
   "outputs": [
    {
     "ename": "",
     "evalue": "",
     "output_type": "error",
     "traceback": [
      "\u001b[1;31mRunning cells with 'c:\\Users\\t-nweisler\\AppData\\Local\\Programs\\Python\\Python38\\python.exe' requires ipykernel package.\n",
      "\u001b[1;31mRun the following command to install 'ipykernel' into the Python environment. \n",
      "\u001b[1;31mCommand: 'c:/Users/t-nweisler/AppData/Local/Programs/Python/Python38/python.exe -m pip install ipykernel -U --user --force-reinstall'"
     ]
    }
   ],
   "source": [
    "# instruments = D.instruments(market='all')\n",
    "\n",
    "fields = ['$open', '$close', '$volume', 'Ref($close, 1)', 'Mean($close, 3)', '$high-$low']\n",
    "# dataFrame = D.features(instruments, fields, start_time=start_time, end_time=end_time, freq=freq)\n",
    "# print(dataFrame.head(10).to_string())"
   ]
  },
  {
   "cell_type": "code",
   "execution_count": null,
   "metadata": {},
   "outputs": [
    {
     "ename": "",
     "evalue": "",
     "output_type": "error",
     "traceback": [
      "\u001b[1;31mRunning cells with 'c:\\Users\\t-nweisler\\AppData\\Local\\Programs\\Python\\Python38\\python.exe' requires ipykernel package.\n",
      "\u001b[1;31mRun the following command to install 'ipykernel' into the Python environment. \n",
      "\u001b[1;31mCommand: 'c:/Users/t-nweisler/AppData/Local/Programs/Python/Python38/python.exe -m pip install ipykernel -U --user --force-reinstall'"
     ]
    }
   ],
   "source": [
    "h = Alpha158(\n",
    "    instruments=instruments,\n",
    "    freq='1min',\n",
    "#     **{\n",
    "#     \"start_time\": start_time,\n",
    "#     \"end_time\": end_time,\n",
    "#     \"fit_start_time\": fit_start_time,\n",
    "#     \"fit_end_time\": fit_end_time,\n",
    "#     \"instruments\": instruments,  # 'csi300', #\n",
    "#     \"freq\": freq,\n",
    "# }\n",
    ")\n"
   ]
  },
  {
   "cell_type": "code",
   "execution_count": null,
   "metadata": {},
   "outputs": [
    {
     "ename": "",
     "evalue": "",
     "output_type": "error",
     "traceback": [
      "\u001b[1;31mRunning cells with 'c:\\Users\\t-nweisler\\AppData\\Local\\Programs\\Python\\Python38\\python.exe' requires ipykernel package.\n",
      "\u001b[1;31mRun the following command to install 'ipykernel' into the Python environment. \n",
      "\u001b[1;31mCommand: 'c:/Users/t-nweisler/AppData/Local/Programs/Python/Python38/python.exe -m pip install ipykernel -U --user --force-reinstall'"
     ]
    }
   ],
   "source": [
    "dataset = DatasetH(handler=Alpha158TwoWeeks(h), segments={\n",
    "    'train': (start_time, fit_end_time),\n",
    "    'valid': (start_time, fit_end_time),\n",
    "    'test': (test_start_time, test_end_time),\n",
    "})"
   ]
  },
  {
   "cell_type": "code",
   "execution_count": null,
   "metadata": {},
   "outputs": [
    {
     "ename": "",
     "evalue": "",
     "output_type": "error",
     "traceback": [
      "\u001b[1;31mRunning cells with 'c:\\Users\\t-nweisler\\AppData\\Local\\Programs\\Python\\Python38\\python.exe' requires ipykernel package.\n",
      "\u001b[1;31mRun the following command to install 'ipykernel' into the Python environment. \n",
      "\u001b[1;31mCommand: 'c:/Users/t-nweisler/AppData/Local/Programs/Python/Python38/python.exe -m pip install ipykernel -U --user --force-reinstall'"
     ]
    }
   ],
   "source": [
    "model = LGBModel(\n",
    "    loss=\"mse\",\n",
    "    colsample_bytree=0.8879,\n",
    "    learning_rate=0.0421,\n",
    "    subsample=0.8789,\n",
    "    lambda_l1=205.6999,\n",
    "    lambda_l2=580.9768,\n",
    "    max_depth=8,\n",
    "    num_leaves=210,\n",
    "    num_threads=20,\n",
    ")"
   ]
  },
  {
   "cell_type": "code",
   "execution_count": null,
   "metadata": {},
   "outputs": [
    {
     "ename": "",
     "evalue": "",
     "output_type": "error",
     "traceback": [
      "\u001b[1;31mRunning cells with 'c:\\Users\\t-nweisler\\AppData\\Local\\Programs\\Python\\Python38\\python.exe' requires ipykernel package.\n",
      "\u001b[1;31mRun the following command to install 'ipykernel' into the Python environment. \n",
      "\u001b[1;31mCommand: 'c:/Users/t-nweisler/AppData/Local/Programs/Python/Python38/python.exe -m pip install ipykernel -U --user --force-reinstall'"
     ]
    }
   ],
   "source": [
    "example_df = dataset.prepare(\"train\")"
   ]
  },
  {
   "cell_type": "code",
   "execution_count": null,
   "metadata": {},
   "outputs": [
    {
     "ename": "",
     "evalue": "",
     "output_type": "error",
     "traceback": [
      "\u001b[1;31mRunning cells with 'c:\\Users\\t-nweisler\\AppData\\Local\\Programs\\Python\\Python38\\python.exe' requires ipykernel package.\n",
      "\u001b[1;31mRun the following command to install 'ipykernel' into the Python environment. \n",
      "\u001b[1;31mCommand: 'c:/Users/t-nweisler/AppData/Local/Programs/Python/Python38/python.exe -m pip install ipykernel -U --user --force-reinstall'"
     ]
    }
   ],
   "source": [
    "example_df.head()"
   ]
  },
  {
   "cell_type": "code",
   "execution_count": null,
   "metadata": {},
   "outputs": [
    {
     "ename": "",
     "evalue": "",
     "output_type": "error",
     "traceback": [
      "\u001b[1;31mRunning cells with 'c:\\Users\\t-nweisler\\AppData\\Local\\Programs\\Python\\Python38\\python.exe' requires ipykernel package.\n",
      "\u001b[1;31mRun the following command to install 'ipykernel' into the Python environment. \n",
      "\u001b[1;31mCommand: 'c:/Users/t-nweisler/AppData/Local/Programs/Python/Python38/python.exe -m pip install ipykernel -U --user --force-reinstall'"
     ]
    }
   ],
   "source": [
    "with R.start(experiment_name=\"stock_predictor\", recorder_name=\"new_model\"):\n",
    "    R.log_params(**flatten_dict({\"loss\": \"mse\",\n",
    "                                 \"colsample_bytree\": 0.8879,\n",
    "                                 \"learning_rate\": 0.0421,\n",
    "                                 \"subsample\": 0.8789,\n",
    "                                 \"lambda_l1\": 205.6999,\n",
    "                                 \"lambda_l2\": 580.9768,\n",
    "                                 \"max_depth\": 8,\n",
    "                                 \"num_leaves\": 210,\n",
    "                                 \"num_threads\": 20,\n",
    "                                 }))\n",
    "    print('model fit:')\n",
    "    model.fit(dataset)\n",
    "\n",
    "    R.save_objects(**{\"model.pkl\": model})\n",
    "\n",
    "    print('pred:')\n",
    "    print(model.predict(dataset))\n",
    "\n",
    "    print('recorder:')\n",
    "    recorder = R.get_recorder()\n",
    "    sr = SignalRecord(model, dataset, recorder)\n",
    "    sr.generate()"
   ]
  }
 ],
 "metadata": {
  "kernelspec": {
   "display_name": "Python 3",
   "language": "python",
   "name": "python3"
  },
  "language_info": {
   "codemirror_mode": {
    "name": "ipython",
    "version": 3
   },
   "file_extension": ".py",
   "mimetype": "text/x-python",
   "name": "python",
   "nbconvert_exporter": "python",
   "pygments_lexer": "ipython3",
   "version": "3.8.0 (tags/v3.8.0:fa919fd, Oct 14 2019, 19:37:50) [MSC v.1916 64 bit (AMD64)]"
  },
  "orig_nbformat": 4,
  "vscode": {
   "interpreter": {
    "hash": "2fce5146ba56266e29dd2e82c779bf5e84310f1bf8630c2003d66e263500a242"
   }
  }
 },
 "nbformat": 4,
 "nbformat_minor": 2
}
